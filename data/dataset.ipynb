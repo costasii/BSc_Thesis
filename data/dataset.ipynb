{
 "cells": [
  {
   "cell_type": "markdown",
   "metadata": {},
   "source": [
    "DATASET ANALYSIS"
   ]
  },
  {
   "cell_type": "code",
   "execution_count": 1,
   "metadata": {},
   "outputs": [],
   "source": [
    "import pandas as pd\n",
    "import matplotlib.pyplot as plt\n",
    "import numpy as np\n",
    "import spacy\n",
    "import seaborn as sns"
   ]
  },
  {
   "cell_type": "code",
   "execution_count": 3,
   "metadata": {},
   "outputs": [],
   "source": [
    "nlp = spacy.load(\"en_core_web_lg\")"
   ]
  },
  {
   "cell_type": "code",
   "execution_count": 4,
   "metadata": {},
   "outputs": [],
   "source": [
    "df = pd.read_csv('cve_train.csv')"
   ]
  },
  {
   "cell_type": "code",
   "execution_count": 6,
   "metadata": {},
   "outputs": [
    {
     "data": {
      "text/html": [
       "<div>\n",
       "<style scoped>\n",
       "    .dataframe tbody tr th:only-of-type {\n",
       "        vertical-align: middle;\n",
       "    }\n",
       "\n",
       "    .dataframe tbody tr th {\n",
       "        vertical-align: top;\n",
       "    }\n",
       "\n",
       "    .dataframe thead th {\n",
       "        text-align: right;\n",
       "    }\n",
       "</style>\n",
       "<table border=\"1\" class=\"dataframe\">\n",
       "  <thead>\n",
       "    <tr style=\"text-align: right;\">\n",
       "      <th></th>\n",
       "      <th>Unnamed: 0</th>\n",
       "      <th>cve_id</th>\n",
       "      <th>attack_vector</th>\n",
       "      <th>attack_complexity</th>\n",
       "      <th>privileges_required</th>\n",
       "      <th>user_interaction</th>\n",
       "      <th>scope</th>\n",
       "      <th>confidentiality</th>\n",
       "      <th>integrity</th>\n",
       "      <th>availability</th>\n",
       "      <th>description</th>\n",
       "      <th>last_modified_date</th>\n",
       "      <th>published_date</th>\n",
       "      <th>base_score</th>\n",
       "      <th>exploitability_score</th>\n",
       "      <th>impact_score</th>\n",
       "    </tr>\n",
       "  </thead>\n",
       "  <tbody>\n",
       "    <tr>\n",
       "      <th>0</th>\n",
       "      <td>50767</td>\n",
       "      <td>CVE-2019-11980</td>\n",
       "      <td>NETWORK</td>\n",
       "      <td>LOW</td>\n",
       "      <td>LOW</td>\n",
       "      <td>NONE</td>\n",
       "      <td>UNCHANGED</td>\n",
       "      <td>HIGH</td>\n",
       "      <td>HIGH</td>\n",
       "      <td>HIGH</td>\n",
       "      <td>A remote code exection vulnerability was ident...</td>\n",
       "      <td>2019-06-07T00:16Z</td>\n",
       "      <td>2019-06-05T16:29Z</td>\n",
       "      <td>8.8</td>\n",
       "      <td>2.8</td>\n",
       "      <td>5.9</td>\n",
       "    </tr>\n",
       "    <tr>\n",
       "      <th>1</th>\n",
       "      <td>41253</td>\n",
       "      <td>CVE-2017-0854</td>\n",
       "      <td>NETWORK</td>\n",
       "      <td>LOW</td>\n",
       "      <td>NONE</td>\n",
       "      <td>NONE</td>\n",
       "      <td>UNCHANGED</td>\n",
       "      <td>HIGH</td>\n",
       "      <td>NONE</td>\n",
       "      <td>HIGH</td>\n",
       "      <td>An information disclosure vulnerability in the...</td>\n",
       "      <td>2019-10-03T00:03Z</td>\n",
       "      <td>2017-11-16T23:29Z</td>\n",
       "      <td>9.1</td>\n",
       "      <td>3.9</td>\n",
       "      <td>5.2</td>\n",
       "    </tr>\n",
       "    <tr>\n",
       "      <th>2</th>\n",
       "      <td>62388</td>\n",
       "      <td>CVE-2017-7595</td>\n",
       "      <td>LOCAL</td>\n",
       "      <td>LOW</td>\n",
       "      <td>NONE</td>\n",
       "      <td>REQUIRED</td>\n",
       "      <td>UNCHANGED</td>\n",
       "      <td>NONE</td>\n",
       "      <td>NONE</td>\n",
       "      <td>HIGH</td>\n",
       "      <td>The JPEGSetupEncode function in tiff_jpeg.c in...</td>\n",
       "      <td>2018-03-22T01:29Z</td>\n",
       "      <td>2017-04-09T14:59Z</td>\n",
       "      <td>5.5</td>\n",
       "      <td>1.8</td>\n",
       "      <td>3.6</td>\n",
       "    </tr>\n",
       "    <tr>\n",
       "      <th>3</th>\n",
       "      <td>36528</td>\n",
       "      <td>CVE-2019-11274</td>\n",
       "      <td>NETWORK</td>\n",
       "      <td>LOW</td>\n",
       "      <td>NONE</td>\n",
       "      <td>REQUIRED</td>\n",
       "      <td>CHANGED</td>\n",
       "      <td>LOW</td>\n",
       "      <td>LOW</td>\n",
       "      <td>NONE</td>\n",
       "      <td>Cloud Foundry UAA, versions prior to 74.0.0, i...</td>\n",
       "      <td>2019-10-09T23:45Z</td>\n",
       "      <td>2019-08-09T20:15Z</td>\n",
       "      <td>6.1</td>\n",
       "      <td>2.8</td>\n",
       "      <td>2.7</td>\n",
       "    </tr>\n",
       "    <tr>\n",
       "      <th>4</th>\n",
       "      <td>5543</td>\n",
       "      <td>CVE-2020-7788</td>\n",
       "      <td>NETWORK</td>\n",
       "      <td>LOW</td>\n",
       "      <td>NONE</td>\n",
       "      <td>NONE</td>\n",
       "      <td>UNCHANGED</td>\n",
       "      <td>LOW</td>\n",
       "      <td>LOW</td>\n",
       "      <td>LOW</td>\n",
       "      <td>This affects the package ini before 1.3.6. If ...</td>\n",
       "      <td>2020-12-23T15:42Z</td>\n",
       "      <td>2020-12-11T11:15Z</td>\n",
       "      <td>7.3</td>\n",
       "      <td>3.9</td>\n",
       "      <td>3.4</td>\n",
       "    </tr>\n",
       "  </tbody>\n",
       "</table>\n",
       "</div>"
      ],
      "text/plain": [
       "   Unnamed: 0          cve_id attack_vector attack_complexity  \\\n",
       "0       50767  CVE-2019-11980       NETWORK               LOW   \n",
       "1       41253   CVE-2017-0854       NETWORK               LOW   \n",
       "2       62388   CVE-2017-7595         LOCAL               LOW   \n",
       "3       36528  CVE-2019-11274       NETWORK               LOW   \n",
       "4        5543   CVE-2020-7788       NETWORK               LOW   \n",
       "\n",
       "  privileges_required user_interaction      scope confidentiality integrity  \\\n",
       "0                 LOW             NONE  UNCHANGED            HIGH      HIGH   \n",
       "1                NONE             NONE  UNCHANGED            HIGH      NONE   \n",
       "2                NONE         REQUIRED  UNCHANGED            NONE      NONE   \n",
       "3                NONE         REQUIRED    CHANGED             LOW       LOW   \n",
       "4                NONE             NONE  UNCHANGED             LOW       LOW   \n",
       "\n",
       "  availability                                        description  \\\n",
       "0         HIGH  A remote code exection vulnerability was ident...   \n",
       "1         HIGH  An information disclosure vulnerability in the...   \n",
       "2         HIGH  The JPEGSetupEncode function in tiff_jpeg.c in...   \n",
       "3         NONE  Cloud Foundry UAA, versions prior to 74.0.0, i...   \n",
       "4          LOW  This affects the package ini before 1.3.6. If ...   \n",
       "\n",
       "  last_modified_date     published_date  base_score  exploitability_score  \\\n",
       "0  2019-06-07T00:16Z  2019-06-05T16:29Z         8.8                   2.8   \n",
       "1  2019-10-03T00:03Z  2017-11-16T23:29Z         9.1                   3.9   \n",
       "2  2018-03-22T01:29Z  2017-04-09T14:59Z         5.5                   1.8   \n",
       "3  2019-10-09T23:45Z  2019-08-09T20:15Z         6.1                   2.8   \n",
       "4  2020-12-23T15:42Z  2020-12-11T11:15Z         7.3                   3.9   \n",
       "\n",
       "   impact_score  \n",
       "0           5.9  \n",
       "1           5.2  \n",
       "2           3.6  \n",
       "3           2.7  \n",
       "4           3.4  "
      ]
     },
     "execution_count": 6,
     "metadata": {},
     "output_type": "execute_result"
    }
   ],
   "source": [
    "df.head()"
   ]
  },
  {
   "cell_type": "code",
   "execution_count": 14,
   "metadata": {},
   "outputs": [
    {
     "data": {
      "text/plain": [
       "Unnamed: 0              1115\n",
       "cve_id                  1115\n",
       "attack_vector           1115\n",
       "attack_complexity       1115\n",
       "privileges_required     1115\n",
       "user_interaction        1115\n",
       "scope                   1115\n",
       "confidentiality         1115\n",
       "integrity               1115\n",
       "availability            1115\n",
       "description             1115\n",
       "last_modified_date      1115\n",
       "published_date          1115\n",
       "base_score              1115\n",
       "exploitability_score    1115\n",
       "impact_score            1115\n",
       "dtype: int64"
      ]
     },
     "execution_count": 14,
     "metadata": {},
     "output_type": "execute_result"
    }
   ],
   "source": [
    "#number of examples in each cvss range\n",
    "df[df.base_score == 0].count()\n",
    "df[(df.base_score >= 0.1) & (df.base_score <= 3.9)].count()\n"
   ]
  },
  {
   "cell_type": "code",
   "execution_count": 15,
   "metadata": {},
   "outputs": [
    {
     "data": {
      "text/plain": [
       "Unnamed: 0              24232\n",
       "cve_id                  24232\n",
       "attack_vector           24232\n",
       "attack_complexity       24232\n",
       "privileges_required     24232\n",
       "user_interaction        24232\n",
       "scope                   24232\n",
       "confidentiality         24232\n",
       "integrity               24232\n",
       "availability            24232\n",
       "description             24232\n",
       "last_modified_date      24232\n",
       "published_date          24232\n",
       "base_score              24232\n",
       "exploitability_score    24232\n",
       "impact_score            24232\n",
       "dtype: int64"
      ]
     },
     "execution_count": 15,
     "metadata": {},
     "output_type": "execute_result"
    }
   ],
   "source": [
    "df[(df.base_score >= 4.0) & (df.base_score <= 6.9)].count()"
   ]
  },
  {
   "cell_type": "code",
   "execution_count": 16,
   "metadata": {},
   "outputs": [
    {
     "data": {
      "text/plain": [
       "Unnamed: 0              26793\n",
       "cve_id                  26793\n",
       "attack_vector           26793\n",
       "attack_complexity       26793\n",
       "privileges_required     26793\n",
       "user_interaction        26793\n",
       "scope                   26793\n",
       "confidentiality         26793\n",
       "integrity               26793\n",
       "availability            26793\n",
       "description             26793\n",
       "last_modified_date      26793\n",
       "published_date          26793\n",
       "base_score              26793\n",
       "exploitability_score    26793\n",
       "impact_score            26793\n",
       "dtype: int64"
      ]
     },
     "execution_count": 16,
     "metadata": {},
     "output_type": "execute_result"
    }
   ],
   "source": [
    "df[(df.base_score >= 7.0) & (df.base_score <= 8.9)].count()"
   ]
  },
  {
   "cell_type": "code",
   "execution_count": 17,
   "metadata": {},
   "outputs": [
    {
     "data": {
      "text/plain": [
       "Unnamed: 0              9476\n",
       "cve_id                  9476\n",
       "attack_vector           9476\n",
       "attack_complexity       9476\n",
       "privileges_required     9476\n",
       "user_interaction        9476\n",
       "scope                   9476\n",
       "confidentiality         9476\n",
       "integrity               9476\n",
       "availability            9476\n",
       "description             9476\n",
       "last_modified_date      9476\n",
       "published_date          9476\n",
       "base_score              9476\n",
       "exploitability_score    9476\n",
       "impact_score            9476\n",
       "dtype: int64"
      ]
     },
     "execution_count": 17,
     "metadata": {},
     "output_type": "execute_result"
    }
   ],
   "source": [
    "df[(df.base_score >= 9.0) & (df.base_score <= 10.0)].count()"
   ]
  },
  {
   "cell_type": "code",
   "execution_count": 6,
   "metadata": {},
   "outputs": [
    {
     "name": "stdout",
     "output_type": "stream",
     "text": [
      "<class 'pandas.core.frame.DataFrame'>\n",
      "RangeIndex: 61616 entries, 0 to 61615\n",
      "Data columns (total 16 columns):\n",
      " #   Column                Non-Null Count  Dtype  \n",
      "---  ------                --------------  -----  \n",
      " 0   Unnamed: 0            61616 non-null  int64  \n",
      " 1   cve_id                61616 non-null  object \n",
      " 2   attack_vector         61616 non-null  object \n",
      " 3   attack_complexity     61616 non-null  object \n",
      " 4   privileges_required   61616 non-null  object \n",
      " 5   user_interaction      61616 non-null  object \n",
      " 6   scope                 61616 non-null  object \n",
      " 7   confidentiality       61616 non-null  object \n",
      " 8   integrity             61616 non-null  object \n",
      " 9   availability          61616 non-null  object \n",
      " 10  description           61616 non-null  object \n",
      " 11  last_modified_date    61616 non-null  object \n",
      " 12  published_date        61616 non-null  object \n",
      " 13  base_score            61616 non-null  float64\n",
      " 14  exploitability_score  61616 non-null  float64\n",
      " 15  impact_score          61616 non-null  float64\n",
      "dtypes: float64(3), int64(1), object(12)\n",
      "memory usage: 7.5+ MB\n"
     ]
    }
   ],
   "source": [
    "df.info()"
   ]
  },
  {
   "cell_type": "code",
   "execution_count": 17,
   "metadata": {},
   "outputs": [
    {
     "name": "stdout",
     "output_type": "stream",
     "text": [
      "\n",
      "attack_vector\n",
      "NETWORK             45193\n",
      "LOCAL               14394\n",
      "ADJACENT_NETWORK     1345\n",
      "PHYSICAL              684\n",
      "Name: attack_vector, dtype: int64\n",
      "\n",
      "attack_complexity\n",
      "LOW     56648\n",
      "HIGH     4968\n",
      "Name: attack_complexity, dtype: int64\n",
      "\n",
      "privileges_required\n",
      "NONE    41259\n",
      "LOW     16431\n",
      "HIGH     3926\n",
      "Name: privileges_required, dtype: int64\n",
      "\n",
      "user_interaction\n",
      "NONE        39626\n",
      "REQUIRED    21990\n",
      "Name: user_interaction, dtype: int64\n",
      "\n",
      "scope\n",
      "UNCHANGED    51434\n",
      "CHANGED      10182\n",
      "Name: scope, dtype: int64\n",
      "\n",
      "confidentiality\n",
      "HIGH    36398\n",
      "NONE    13363\n",
      "LOW     11855\n",
      "Name: confidentiality, dtype: int64\n",
      "\n",
      "integrity\n",
      "HIGH    31628\n",
      "NONE    19208\n",
      "LOW     10780\n",
      "Name: integrity, dtype: int64\n",
      "\n",
      "availability\n",
      "HIGH    36132\n",
      "NONE    23892\n",
      "LOW      1592\n",
      "Name: availability, dtype: int64\n"
     ]
    }
   ],
   "source": [
    "#count values for each column\n",
    "for column in df.loc[:, 'attack_vector':'availability']:\n",
    "    print(\"\\n\" + column)\n",
    "    print(df[column].value_counts())"
   ]
  },
  {
   "cell_type": "code",
   "execution_count": 18,
   "metadata": {},
   "outputs": [
    {
     "data": {
      "text/plain": [
       "'Cloud Foundry UAA, versions prior to 74.0.0, is vulnerable to an XSS attack. A remote unauthenticated malicious attacker could craft a URL that contains a SCIM filter that contains malicious JavaScript, which older browsers may execute.'"
      ]
     },
     "execution_count": 18,
     "metadata": {},
     "output_type": "execute_result"
    }
   ],
   "source": [
    "#example of a CVE description\n",
    "df['description'][3]"
   ]
  },
  {
   "cell_type": "markdown",
   "metadata": {},
   "source": [
    "Spacy dataset analysis and preprocessing"
   ]
  },
  {
   "cell_type": "code",
   "execution_count": 20,
   "metadata": {},
   "outputs": [
    {
     "data": {
      "text/plain": [
       "Cloud Foundry UAA, versions prior to 74.0.0, is vulnerable to an XSS attack. A remote unauthenticated malicious attacker could craft a URL that contains a SCIM filter that contains malicious JavaScript, which older browsers may execute."
      ]
     },
     "execution_count": 20,
     "metadata": {},
     "output_type": "execute_result"
    }
   ],
   "source": [
    "#Create a Doc object from one of the descriptions\n",
    "doc = nlp(df['description'][3])\n",
    "doc"
   ]
  },
  {
   "cell_type": "code",
   "execution_count": null,
   "metadata": {},
   "outputs": [],
   "source": [
    "\n"
   ]
  }
 ],
 "metadata": {
  "interpreter": {
   "hash": "d352f530d35ba9a8cbd74dc54ae14fe97a35856bed16a2f3b615ca61b68e7fcb"
  },
  "kernelspec": {
   "display_name": "Python 3.9.5 ('base')",
   "language": "python",
   "name": "python3"
  },
  "language_info": {
   "codemirror_mode": {
    "name": "ipython",
    "version": 3
   },
   "file_extension": ".py",
   "mimetype": "text/x-python",
   "name": "python",
   "nbconvert_exporter": "python",
   "pygments_lexer": "ipython3",
   "version": "3.9.5"
  },
  "orig_nbformat": 4
 },
 "nbformat": 4,
 "nbformat_minor": 2
}
