{
 "cells": [
  {
   "cell_type": "code",
   "execution_count": 5,
   "metadata": {},
   "outputs": [],
   "source": [
    "import os\n",
    "import sys"
   ]
  },
  {
   "cell_type": "code",
   "execution_count": 16,
   "metadata": {},
   "outputs": [],
   "source": [
    "import pandas as pd\n",
    "import matplotlib.pyplot as plt\n",
    "import numpy as np\n",
    "import spacy\n",
    "import seaborn as sns\n",
    "\n",
    "from sklearn.svm import SVR\n",
    "from sklearn.pipeline import make_pipeline\n",
    "from sklearn.preprocessing import StandardScaler\n",
    "\n"
   ]
  },
  {
   "cell_type": "code",
   "execution_count": 2,
   "metadata": {},
   "outputs": [],
   "source": [
    "nlp = spacy.load(\"en_core_web_lg\")"
   ]
  },
  {
   "cell_type": "code",
   "execution_count": 10,
   "metadata": {},
   "outputs": [],
   "source": [
    "data_train = pd.read_csv('cve_train.csv')\n",
    "data_test = pd.read_csv('cve_test.csv')\n",
    "\n",
    "description_train = data_train['description']\n",
    "description_test = data_test['description']\n",
    "cvss_train = data_train['base_score']\n",
    "cvss_test = data_test['base_score']\n"
   ]
  },
  {
   "cell_type": "code",
   "execution_count": 12,
   "metadata": {},
   "outputs": [
    {
     "name": "stdout",
     "output_type": "stream",
     "text": [
      "0    A remote code exection vulnerability was ident...\n",
      "1    An information disclosure vulnerability in the...\n",
      "2    The JPEGSetupEncode function in tiff_jpeg.c in...\n",
      "3    Cloud Foundry UAA, versions prior to 74.0.0, i...\n",
      "4    This affects the package ini before 1.3.6. If ...\n",
      "Name: description, dtype: object\n"
     ]
    }
   ],
   "source": [
    "print(description_train.head())"
   ]
  },
  {
   "cell_type": "code",
   "execution_count": 13,
   "metadata": {},
   "outputs": [],
   "source": [
    "#transform tokens of a description and summarize them\n",
    "vectors = description_train.apply(lambda row: sum([token.vector for token in nlp(row)]))"
   ]
  },
  {
   "cell_type": "code",
   "execution_count": 17,
   "metadata": {},
   "outputs": [
    {
     "data": {
      "text/plain": [
       "SVR()"
      ]
     },
     "execution_count": 17,
     "metadata": {},
     "output_type": "execute_result"
    }
   ],
   "source": [
    "description_train_vectors = list(vectors)\n",
    "reg = SVR(kernel='rbf')\n",
    "reg.fit(description_train_vectors, cvss_train)"
   ]
  },
  {
   "cell_type": "code",
   "execution_count": 18,
   "metadata": {},
   "outputs": [],
   "source": [
    "#put test data into a list\n",
    "list_description = []\n",
    "for i in range(len(description_test)):\n",
    "    list_description.append(description_test.iloc[i])"
   ]
  },
  {
   "cell_type": "code",
   "execution_count": 19,
   "metadata": {},
   "outputs": [],
   "source": [
    "list_description_vec = []\n",
    "for desc in list_description:\n",
    "    list_description_vec.append(sum([token.vector for token in nlp(desc)]))"
   ]
  },
  {
   "cell_type": "code",
   "execution_count": 20,
   "metadata": {},
   "outputs": [],
   "source": [
    "cvss_pred = []\n",
    "for desc_vec in list_description_vec:\n",
    "    cvss_pred.append(reg.predict([desc_vec]))"
   ]
  },
  {
   "cell_type": "code",
   "execution_count": 21,
   "metadata": {},
   "outputs": [],
   "source": [
    "cvss_true = []\n",
    "for i in range(len(cvss_test)):\n",
    "    cvss_true.append(cvss_test.iloc[i])"
   ]
  },
  {
   "cell_type": "code",
   "execution_count": 35,
   "metadata": {},
   "outputs": [
    {
     "name": "stdout",
     "output_type": "stream",
     "text": [
      "Explained variance score (1 is the best): 0.390\n",
      "Max error: 6.115\n",
      "Mean absolute percentage error: 0.154\n",
      "Correlation coefficient: 0.389\n"
     ]
    }
   ],
   "source": [
    "#evaluation\n",
    "from sklearn import metrics\n",
    "print(\"Explained variance score (1 is the best): %.3f\" %metrics.explained_variance_score(cvss_true, cvss_pred))\n",
    "print(\"Max error: %.3f\" %metrics.max_error(cvss_true, cvss_pred))\n",
    "print(\"Mean absolute percentage error: %.3f\" %metrics.mean_absolute_percentage_error(cvss_true, cvss_pred))\n",
    "print(\"Correlation coefficient: %.3f\" %metrics.r2_score(cvss_true, cvss_pred))\n",
    "\n"
   ]
  },
  {
   "cell_type": "code",
   "execution_count": 33,
   "metadata": {},
   "outputs": [
    {
     "name": "stdout",
     "output_type": "stream",
     "text": [
      "[7.4661249]\n",
      "7.5\n",
      "\n",
      "[7.63278205]\n",
      "7.8\n",
      "\n",
      "[8.22439322]\n",
      "8.8\n",
      "\n",
      "[4.14713951]\n",
      "4.3\n",
      "\n",
      "[5.15562947]\n",
      "5.5\n",
      "\n",
      "[6.89972806]\n",
      "7.0\n",
      "\n",
      "[7.88468669]\n",
      "4.7\n",
      "\n",
      "[7.53229076]\n",
      "9.8\n",
      "\n",
      "[5.87283644]\n",
      "5.5\n",
      "\n",
      "[7.77672928]\n",
      "9.1\n",
      "\n",
      "[8.50735935]\n",
      "9.8\n",
      "\n",
      "[6.63063347]\n",
      "7.2\n",
      "\n",
      "[5.19119846]\n",
      "4.7\n",
      "\n",
      "[7.59984634]\n",
      "7.8\n",
      "\n",
      "[6.01000603]\n",
      "4.8\n",
      "\n",
      "[8.70402406]\n",
      "8.8\n",
      "\n",
      "[7.59104949]\n",
      "7.8\n",
      "\n",
      "[7.3477621]\n",
      "8.4\n",
      "\n",
      "[5.61356849]\n",
      "8.7\n",
      "\n",
      "[6.19843648]\n",
      "7.3\n",
      "\n"
     ]
    }
   ],
   "source": [
    "for i in range(0, 20):\n",
    "    print(cvss_pred[i])\n",
    "    print(cvss_true[i])\n",
    "    print()"
   ]
  },
  {
   "cell_type": "code",
   "execution_count": null,
   "metadata": {},
   "outputs": [],
   "source": [
    "import pickle\n",
    "pickle.dump(reg, open('svm_model', 'wb'))"
   ]
  }
 ],
 "metadata": {
  "interpreter": {
   "hash": "901382785acabfc8268a913c88ac8acce7b79e4f8ff88e54caf41d0a83717d5d"
  },
  "kernelspec": {
   "display_name": "Python 3.9.7 ('Pandas')",
   "language": "python",
   "name": "python3"
  },
  "language_info": {
   "codemirror_mode": {
    "name": "ipython",
    "version": 3
   },
   "file_extension": ".py",
   "mimetype": "text/x-python",
   "name": "python",
   "nbconvert_exporter": "python",
   "pygments_lexer": "ipython3",
   "version": "3.9.5"
  },
  "orig_nbformat": 4
 },
 "nbformat": 4,
 "nbformat_minor": 2
}
