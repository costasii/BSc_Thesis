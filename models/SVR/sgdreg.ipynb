{
 "cells": [
  {
   "cell_type": "code",
   "execution_count": 1,
   "metadata": {},
   "outputs": [],
   "source": [
    "import pandas as pd\n",
    "import numpy as np\n",
    "import spacy\n",
    "\n",
    "from sklearn.svm import SVR\n",
    "from sklearn.preprocessing import StandardScaler"
   ]
  },
  {
   "cell_type": "code",
   "execution_count": 2,
   "metadata": {},
   "outputs": [],
   "source": [
    "nlp = spacy.load(\"en_core_web_lg\")"
   ]
  },
  {
   "cell_type": "code",
   "execution_count": 3,
   "metadata": {},
   "outputs": [],
   "source": [
    "data_train = pd.read_csv('cve_train.csv')\n",
    "data_test = pd.read_csv('cve_test.csv')\n",
    "\n",
    "description_train = data_train['description']\n",
    "description_test = data_test['description']\n",
    "cvss_train = data_train['base_score']\n",
    "cvss_test = data_test['base_score']\n"
   ]
  },
  {
   "cell_type": "code",
   "execution_count": 4,
   "metadata": {},
   "outputs": [],
   "source": [
    "%store -r description_train_vectors"
   ]
  },
  {
   "cell_type": "code",
   "execution_count": 5,
   "metadata": {},
   "outputs": [],
   "source": [
    "sc_desc = StandardScaler()\n",
    "description_train_vectors = sc_desc.fit_transform(description_train_vectors, cvss_train)\n"
   ]
  },
  {
   "cell_type": "code",
   "execution_count": 7,
   "metadata": {},
   "outputs": [
    {
     "name": "stdout",
     "output_type": "stream",
     "text": [
      "{'alpha': 0.0001, 'average': False, 'early_stopping': False, 'epsilon': 0.1, 'eta0': 0.01, 'fit_intercept': True, 'l1_ratio': 0.15, 'learning_rate': 'invscaling', 'loss': 'squared_error', 'max_iter': 1000, 'n_iter_no_change': 5, 'penalty': 'l2', 'power_t': 0.25, 'random_state': None, 'shuffle': True, 'tol': 0.001, 'validation_fraction': 0.1, 'verbose': 0, 'warm_start': False}\n"
     ]
    }
   ],
   "source": [
    "from sklearn.linear_model import SGDRegressor\n",
    "print(SGDRegressor().get_params())"
   ]
  },
  {
   "cell_type": "code",
   "execution_count": 8,
   "metadata": {},
   "outputs": [
    {
     "name": "stdout",
     "output_type": "stream",
     "text": [
      "Fitting 3 folds for each of 1 candidates, totalling 3 fits\n",
      "[CV 1/3; 1/1] START alpha=0.002692356745318716, epsilon=0.010383500991809656, loss=huber, tol=0.0003973595125077402\n",
      "[CV 1/3; 1/1] END alpha=0.002692356745318716, epsilon=0.010383500991809656, loss=huber, tol=0.0003973595125077402;, score=-0.163 total time=   3.0s\n",
      "[CV 2/3; 1/1] START alpha=0.002692356745318716, epsilon=0.010383500991809656, loss=huber, tol=0.0003973595125077402\n",
      "[CV 2/3; 1/1] END alpha=0.002692356745318716, epsilon=0.010383500991809656, loss=huber, tol=0.0003973595125077402;, score=-0.156 total time=   2.5s\n",
      "[CV 3/3; 1/1] START alpha=0.002692356745318716, epsilon=0.010383500991809656, loss=huber, tol=0.0003973595125077402\n",
      "[CV 3/3; 1/1] END alpha=0.002692356745318716, epsilon=0.010383500991809656, loss=huber, tol=0.0003973595125077402;, score=-0.160 total time=   2.5s\n",
      "Fitting 3 folds for each of 1 candidates, totalling 3 fits\n",
      "[CV 1/3; 1/1] START alpha=5.143131340991635e-05, epsilon=0.3713609179348028, loss=huber, tol=1.5938951157910062e-07\n",
      "[CV 1/3; 1/1] END alpha=5.143131340991635e-05, epsilon=0.3713609179348028, loss=huber, tol=1.5938951157910062e-07;, score=0.278 total time=   2.3s\n",
      "[CV 2/3; 1/1] START alpha=5.143131340991635e-05, epsilon=0.3713609179348028, loss=huber, tol=1.5938951157910062e-07\n",
      "[CV 2/3; 1/1] END alpha=5.143131340991635e-05, epsilon=0.3713609179348028, loss=huber, tol=1.5938951157910062e-07;, score=0.269 total time=   1.7s\n",
      "[CV 3/3; 1/1] START alpha=5.143131340991635e-05, epsilon=0.3713609179348028, loss=huber, tol=1.5938951157910062e-07\n",
      "[CV 3/3; 1/1] END alpha=5.143131340991635e-05, epsilon=0.3713609179348028, loss=huber, tol=1.5938951157910062e-07;, score=0.257 total time=   2.4s\n",
      "Fitting 3 folds for each of 1 candidates, totalling 3 fits\n",
      "[CV 1/3; 1/1] START alpha=0.0010163633269708503, epsilon=0.00031668845529512617, loss=squared_error, tol=0.0008967541109200574\n",
      "[CV 1/3; 1/1] END alpha=0.0010163633269708503, epsilon=0.00031668845529512617, loss=squared_error, tol=0.0008967541109200574;, score=-1467591658725417680896.000 total time=   0.4s\n",
      "[CV 2/3; 1/1] START alpha=0.0010163633269708503, epsilon=0.00031668845529512617, loss=squared_error, tol=0.0008967541109200574\n",
      "[CV 2/3; 1/1] END alpha=0.0010163633269708503, epsilon=0.00031668845529512617, loss=squared_error, tol=0.0008967541109200574;, score=-38245644508146507776.000 total time=   0.3s\n",
      "[CV 3/3; 1/1] START alpha=0.0010163633269708503, epsilon=0.00031668845529512617, loss=squared_error, tol=0.0008967541109200574\n",
      "[CV 3/3; 1/1] END alpha=0.0010163633269708503, epsilon=0.00031668845529512617, loss=squared_error, tol=0.0008967541109200574;, score=-264687658919963787264.000 total time=   0.7s\n",
      "Fitting 3 folds for each of 1 candidates, totalling 3 fits\n",
      "[CV 1/3; 1/1] START alpha=3.6001195035133824e-07, epsilon=8.693545991120294, loss=squared_epsilon_insensitive, tol=0.008737074702622553\n",
      "[CV 1/3; 1/1] END alpha=3.6001195035133824e-07, epsilon=8.693545991120294, loss=squared_epsilon_insensitive, tol=0.008737074702622553;, score=-2453190234194106122240.000 total time=   1.2s\n",
      "[CV 2/3; 1/1] START alpha=3.6001195035133824e-07, epsilon=8.693545991120294, loss=squared_epsilon_insensitive, tol=0.008737074702622553\n",
      "[CV 2/3; 1/1] END alpha=3.6001195035133824e-07, epsilon=8.693545991120294, loss=squared_epsilon_insensitive, tol=0.008737074702622553;, score=-69243405730442461184.000 total time=   1.7s\n",
      "[CV 3/3; 1/1] START alpha=3.6001195035133824e-07, epsilon=8.693545991120294, loss=squared_epsilon_insensitive, tol=0.008737074702622553\n",
      "[CV 3/3; 1/1] END alpha=3.6001195035133824e-07, epsilon=8.693545991120294, loss=squared_epsilon_insensitive, tol=0.008737074702622553;, score=-768035310454544662528.000 total time=   1.1s\n",
      "Fitting 3 folds for each of 1 candidates, totalling 3 fits\n",
      "[CV 1/3; 1/1] START alpha=0.0010928793959926201, epsilon=1.9168454204314282, loss=epsilon_insensitive, tol=4.388954349650936e-07\n",
      "[CV 1/3; 1/1] END alpha=0.0010928793959926201, epsilon=1.9168454204314282, loss=epsilon_insensitive, tol=4.388954349650936e-07;, score=0.250 total time=   1.1s\n",
      "[CV 2/3; 1/1] START alpha=0.0010928793959926201, epsilon=1.9168454204314282, loss=epsilon_insensitive, tol=4.388954349650936e-07\n",
      "[CV 2/3; 1/1] END alpha=0.0010928793959926201, epsilon=1.9168454204314282, loss=epsilon_insensitive, tol=4.388954349650936e-07;, score=0.242 total time=   1.4s\n",
      "[CV 3/3; 1/1] START alpha=0.0010928793959926201, epsilon=1.9168454204314282, loss=epsilon_insensitive, tol=4.388954349650936e-07\n",
      "[CV 3/3; 1/1] END alpha=0.0010928793959926201, epsilon=1.9168454204314282, loss=epsilon_insensitive, tol=4.388954349650936e-07;, score=0.248 total time=   0.9s\n",
      "Fitting 3 folds for each of 1 candidates, totalling 3 fits\n",
      "[CV 1/3; 1/1] START alpha=5.191542937846534e-06, epsilon=0.02001840643603238, loss=squared_error, tol=0.0003014604607810894\n",
      "[CV 1/3; 1/1] END alpha=5.191542937846534e-06, epsilon=0.02001840643603238, loss=squared_error, tol=0.0003014604607810894;, score=-257811595085312819200.000 total time=   0.3s\n",
      "[CV 2/3; 1/1] START alpha=5.191542937846534e-06, epsilon=0.02001840643603238, loss=squared_error, tol=0.0003014604607810894\n",
      "[CV 2/3; 1/1] END alpha=5.191542937846534e-06, epsilon=0.02001840643603238, loss=squared_error, tol=0.0003014604607810894;, score=-161551698305922367488.000 total time=   0.3s\n",
      "[CV 3/3; 1/1] START alpha=5.191542937846534e-06, epsilon=0.02001840643603238, loss=squared_error, tol=0.0003014604607810894\n",
      "[CV 3/3; 1/1] END alpha=5.191542937846534e-06, epsilon=0.02001840643603238, loss=squared_error, tol=0.0003014604607810894;, score=-788834803738918649856.000 total time=   0.6s\n",
      "Fitting 3 folds for each of 1 candidates, totalling 3 fits\n",
      "[CV 1/3; 1/1] START alpha=8.402652255066646e-06, epsilon=0.00011649516760311626, loss=huber, tol=1.1661440933805182e-05\n",
      "[CV 1/3; 1/1] END alpha=8.402652255066646e-06, epsilon=0.00011649516760311626, loss=huber, tol=1.1661440933805182e-05;, score=-19.236 total time=   0.3s\n",
      "[CV 2/3; 1/1] START alpha=8.402652255066646e-06, epsilon=0.00011649516760311626, loss=huber, tol=1.1661440933805182e-05\n",
      "[CV 2/3; 1/1] END alpha=8.402652255066646e-06, epsilon=0.00011649516760311626, loss=huber, tol=1.1661440933805182e-05;, score=-19.022 total time=   0.4s\n",
      "[CV 3/3; 1/1] START alpha=8.402652255066646e-06, epsilon=0.00011649516760311626, loss=huber, tol=1.1661440933805182e-05\n",
      "[CV 3/3; 1/1] END alpha=8.402652255066646e-06, epsilon=0.00011649516760311626, loss=huber, tol=1.1661440933805182e-05;, score=-19.107 total time=   0.4s\n",
      "Fitting 3 folds for each of 1 candidates, totalling 3 fits\n",
      "[CV 1/3; 1/1] START alpha=0.00044382684743644125, epsilon=0.0001313963088205585, loss=squared_error, tol=0.0415650531046636\n",
      "[CV 1/3; 1/1] END alpha=0.00044382684743644125, epsilon=0.0001313963088205585, loss=squared_error, tol=0.0415650531046636;, score=-95043864121769607168.000 total time=   0.7s\n",
      "[CV 2/3; 1/1] START alpha=0.00044382684743644125, epsilon=0.0001313963088205585, loss=squared_error, tol=0.0415650531046636\n",
      "[CV 2/3; 1/1] END alpha=0.00044382684743644125, epsilon=0.0001313963088205585, loss=squared_error, tol=0.0415650531046636;, score=-146816037948225159168.000 total time=   1.2s\n",
      "[CV 3/3; 1/1] START alpha=0.00044382684743644125, epsilon=0.0001313963088205585, loss=squared_error, tol=0.0415650531046636\n",
      "[CV 3/3; 1/1] END alpha=0.00044382684743644125, epsilon=0.0001313963088205585, loss=squared_error, tol=0.0415650531046636;, score=-249822179436537774080.000 total time=   0.5s\n",
      "Fitting 3 folds for each of 1 candidates, totalling 3 fits\n",
      "[CV 1/3; 1/1] START alpha=0.0004194157872141025, epsilon=0.011620662593163928, loss=huber, tol=8.788810795429081e-07\n",
      "[CV 1/3; 1/1] END alpha=0.0004194157872141025, epsilon=0.011620662593163928, loss=huber, tol=8.788810795429081e-07;, score=0.264 total time=  11.0s\n",
      "[CV 2/3; 1/1] START alpha=0.0004194157872141025, epsilon=0.011620662593163928, loss=huber, tol=8.788810795429081e-07\n",
      "[CV 2/3; 1/1] END alpha=0.0004194157872141025, epsilon=0.011620662593163928, loss=huber, tol=8.788810795429081e-07;, score=0.251 total time=   9.4s\n",
      "[CV 3/3; 1/1] START alpha=0.0004194157872141025, epsilon=0.011620662593163928, loss=huber, tol=8.788810795429081e-07\n",
      "[CV 3/3; 1/1] END alpha=0.0004194157872141025, epsilon=0.011620662593163928, loss=huber, tol=8.788810795429081e-07;, score=0.255 total time=  10.0s\n",
      "Fitting 3 folds for each of 1 candidates, totalling 3 fits\n",
      "[CV 1/3; 1/1] START alpha=0.0026356848874835724, epsilon=3.7223043463270304, loss=squared_epsilon_insensitive, tol=0.0008934274247202012\n",
      "[CV 1/3; 1/1] END alpha=0.0026356848874835724, epsilon=3.7223043463270304, loss=squared_epsilon_insensitive, tol=0.0008934274247202012;, score=-740141488187493056512.000 total time=   1.3s\n",
      "[CV 2/3; 1/1] START alpha=0.0026356848874835724, epsilon=3.7223043463270304, loss=squared_epsilon_insensitive, tol=0.0008934274247202012\n",
      "[CV 2/3; 1/1] END alpha=0.0026356848874835724, epsilon=3.7223043463270304, loss=squared_epsilon_insensitive, tol=0.0008934274247202012;, score=-122558845858019491840.000 total time=   0.9s\n",
      "[CV 3/3; 1/1] START alpha=0.0026356848874835724, epsilon=3.7223043463270304, loss=squared_epsilon_insensitive, tol=0.0008934274247202012\n",
      "[CV 3/3; 1/1] END alpha=0.0026356848874835724, epsilon=3.7223043463270304, loss=squared_epsilon_insensitive, tol=0.0008934274247202012;, score=-7982822012313181184.000 total time=   1.1s\n",
      "Fitting 3 folds for each of 1 candidates, totalling 3 fits\n",
      "[CV 1/3; 1/1] START alpha=4.20675388728533e-05, epsilon=0.0001156812199899441, loss=huber, tol=2.4941416031032578e-06\n",
      "[CV 1/3; 1/1] END alpha=4.20675388728533e-05, epsilon=0.0001156812199899441, loss=huber, tol=2.4941416031032578e-06;, score=-19.237 total time=   0.2s\n",
      "[CV 2/3; 1/1] START alpha=4.20675388728533e-05, epsilon=0.0001156812199899441, loss=huber, tol=2.4941416031032578e-06\n",
      "[CV 2/3; 1/1] END alpha=4.20675388728533e-05, epsilon=0.0001156812199899441, loss=huber, tol=2.4941416031032578e-06;, score=-19.022 total time=   0.3s\n",
      "[CV 3/3; 1/1] START alpha=4.20675388728533e-05, epsilon=0.0001156812199899441, loss=huber, tol=2.4941416031032578e-06\n",
      "[CV 3/3; 1/1] END alpha=4.20675388728533e-05, epsilon=0.0001156812199899441, loss=huber, tol=2.4941416031032578e-06;, score=-19.108 total time=   0.2s\n",
      "Fitting 3 folds for each of 1 candidates, totalling 3 fits\n",
      "[CV 1/3; 1/1] START alpha=1.866867209953617e-05, epsilon=0.00011556683598648944, loss=huber, tol=8.11975242782608e-06\n",
      "[CV 1/3; 1/1] END alpha=1.866867209953617e-05, epsilon=0.00011556683598648944, loss=huber, tol=8.11975242782608e-06;, score=-19.237 total time=   0.2s\n",
      "[CV 2/3; 1/1] START alpha=1.866867209953617e-05, epsilon=0.00011556683598648944, loss=huber, tol=8.11975242782608e-06\n",
      "[CV 2/3; 1/1] END alpha=1.866867209953617e-05, epsilon=0.00011556683598648944, loss=huber, tol=8.11975242782608e-06;, score=-19.022 total time=   0.2s\n",
      "[CV 3/3; 1/1] START alpha=1.866867209953617e-05, epsilon=0.00011556683598648944, loss=huber, tol=8.11975242782608e-06\n",
      "[CV 3/3; 1/1] END alpha=1.866867209953617e-05, epsilon=0.00011556683598648944, loss=huber, tol=8.11975242782608e-06;, score=-19.108 total time=   0.2s\n",
      "Fitting 3 folds for each of 1 candidates, totalling 3 fits\n",
      "[CV 1/3; 1/1] START alpha=1.0653200559614568e-05, epsilon=0.00011560827619105903, loss=huber, tol=7.520291455100052e-06\n",
      "[CV 1/3; 1/1] END alpha=1.0653200559614568e-05, epsilon=0.00011560827619105903, loss=huber, tol=7.520291455100052e-06;, score=-19.237 total time=   0.2s\n",
      "[CV 2/3; 1/1] START alpha=1.0653200559614568e-05, epsilon=0.00011560827619105903, loss=huber, tol=7.520291455100052e-06\n",
      "[CV 2/3; 1/1] END alpha=1.0653200559614568e-05, epsilon=0.00011560827619105903, loss=huber, tol=7.520291455100052e-06;, score=-19.022 total time=   0.2s\n",
      "[CV 3/3; 1/1] START alpha=1.0653200559614568e-05, epsilon=0.00011560827619105903, loss=huber, tol=7.520291455100052e-06\n",
      "[CV 3/3; 1/1] END alpha=1.0653200559614568e-05, epsilon=0.00011560827619105903, loss=huber, tol=7.520291455100052e-06;, score=-19.108 total time=   0.2s\n",
      "Fitting 3 folds for each of 1 candidates, totalling 3 fits\n",
      "[CV 1/3; 1/1] START alpha=9.827817501090932e-06, epsilon=0.00011551062333190491, loss=huber, tol=7.161563962488245e-06\n",
      "[CV 1/3; 1/1] END alpha=9.827817501090932e-06, epsilon=0.00011551062333190491, loss=huber, tol=7.161563962488245e-06;, score=-19.237 total time=   0.2s\n",
      "[CV 2/3; 1/1] START alpha=9.827817501090932e-06, epsilon=0.00011551062333190491, loss=huber, tol=7.161563962488245e-06\n",
      "[CV 2/3; 1/1] END alpha=9.827817501090932e-06, epsilon=0.00011551062333190491, loss=huber, tol=7.161563962488245e-06;, score=-19.022 total time=   0.2s\n",
      "[CV 3/3; 1/1] START alpha=9.827817501090932e-06, epsilon=0.00011551062333190491, loss=huber, tol=7.161563962488245e-06\n",
      "[CV 3/3; 1/1] END alpha=9.827817501090932e-06, epsilon=0.00011551062333190491, loss=huber, tol=7.161563962488245e-06;, score=-19.108 total time=   0.2s\n",
      "Fitting 3 folds for each of 1 candidates, totalling 3 fits\n",
      "[CV 1/3; 1/1] START alpha=9.229882896647835e-06, epsilon=0.00011551212779609169, loss=huber, tol=1.1894975724105528e-05\n",
      "[CV 1/3; 1/1] END alpha=9.229882896647835e-06, epsilon=0.00011551212779609169, loss=huber, tol=1.1894975724105528e-05;, score=-19.237 total time=   0.3s\n",
      "[CV 2/3; 1/1] START alpha=9.229882896647835e-06, epsilon=0.00011551212779609169, loss=huber, tol=1.1894975724105528e-05\n",
      "[CV 2/3; 1/1] END alpha=9.229882896647835e-06, epsilon=0.00011551212779609169, loss=huber, tol=1.1894975724105528e-05;, score=-19.022 total time=   0.2s\n",
      "[CV 3/3; 1/1] START alpha=9.229882896647835e-06, epsilon=0.00011551212779609169, loss=huber, tol=1.1894975724105528e-05\n",
      "[CV 3/3; 1/1] END alpha=9.229882896647835e-06, epsilon=0.00011551212779609169, loss=huber, tol=1.1894975724105528e-05;, score=-19.108 total time=   0.3s\n",
      "Fitting 3 folds for each of 1 candidates, totalling 3 fits\n",
      "[CV 1/3; 1/1] START alpha=1.0999168032926692e-05, epsilon=0.00011541661672769602, loss=huber, tol=7.0194565942260555e-06\n",
      "[CV 1/3; 1/1] END alpha=1.0999168032926692e-05, epsilon=0.00011541661672769602, loss=huber, tol=7.0194565942260555e-06;, score=-19.237 total time=   0.2s\n",
      "[CV 2/3; 1/1] START alpha=1.0999168032926692e-05, epsilon=0.00011541661672769602, loss=huber, tol=7.0194565942260555e-06\n",
      "[CV 2/3; 1/1] END alpha=1.0999168032926692e-05, epsilon=0.00011541661672769602, loss=huber, tol=7.0194565942260555e-06;, score=-19.023 total time=   0.3s\n",
      "[CV 3/3; 1/1] START alpha=1.0999168032926692e-05, epsilon=0.00011541661672769602, loss=huber, tol=7.0194565942260555e-06\n",
      "[CV 3/3; 1/1] END alpha=1.0999168032926692e-05, epsilon=0.00011541661672769602, loss=huber, tol=7.0194565942260555e-06;, score=-19.108 total time=   0.3s\n",
      "val. score: 0.2677384143228721\n",
      "best params: OrderedDict([('alpha', 5.143131340991635e-05), ('epsilon', 0.3713609179348028), ('loss', 'huber'), ('tol', 1.5938951157910062e-07)])\n"
     ]
    }
   ],
   "source": [
    "from skopt import BayesSearchCV\n",
    "\n",
    "opt = BayesSearchCV(\n",
    "    SGDRegressor(max_iter=10000),\n",
    "    {\n",
    "        'alpha': (1e-8,1e-2, 'log-uniform'),\n",
    "        'loss': (['squared_error', 'huber', 'epsilon_insensitive', 'squared_epsilon_insensitive']),\n",
    "        \n",
    "        'epsilon': (1e-4, 1e+1, 'log-uniform'),  \n",
    "        'tol': (1e-7, 1e-1, 'log-uniform'),\n",
    "\n",
    "    },\n",
    "    n_iter=16,\n",
    "    cv=3,\n",
    "    verbose=10,\n",
    ")\n",
    "\n",
    "opt.fit(description_train_vectors, cvss_train)\n",
    "\n",
    "print(\"val. score: %s\" % opt.best_score_)\n",
    "print(\"best params: %s\" % str(opt.best_params_))"
   ]
  },
  {
   "cell_type": "code",
   "execution_count": 9,
   "metadata": {},
   "outputs": [],
   "source": [
    "\n",
    "sgdreg = SGDRegressor(alpha=5.143131340991635e-05, epsilon=0.3713609179348028, loss='huber', tol=1.5938951157910062e-07, max_iter= 10000)"
   ]
  },
  {
   "cell_type": "code",
   "execution_count": 10,
   "metadata": {},
   "outputs": [
    {
     "data": {
      "text/plain": [
       "SGDRegressor(alpha=5.143131340991635e-05, epsilon=0.3713609179348028,\n",
       "             loss='huber', max_iter=10000, tol=1.5938951157910062e-07)"
      ]
     },
     "execution_count": 10,
     "metadata": {},
     "output_type": "execute_result"
    }
   ],
   "source": [
    "sgdreg.fit(description_train_vectors, cvss_train)"
   ]
  },
  {
   "cell_type": "code",
   "execution_count": 11,
   "metadata": {},
   "outputs": [],
   "source": [
    "%store -r list_description_vec"
   ]
  },
  {
   "cell_type": "code",
   "execution_count": 12,
   "metadata": {},
   "outputs": [],
   "source": [
    "#scaling test data\n",
    "list_description_vec = sc_desc.fit_transform(list_description_vec, cvss_test)\n"
   ]
  },
  {
   "cell_type": "code",
   "execution_count": 14,
   "metadata": {},
   "outputs": [],
   "source": [
    "cvss_pred = []\n",
    "for desc_vec in list_description_vec:\n",
    "    cvss_pred.append(sgdreg.predict([desc_vec]))"
   ]
  },
  {
   "cell_type": "code",
   "execution_count": 15,
   "metadata": {},
   "outputs": [],
   "source": [
    "cvss_true = []\n",
    "for i in range(len(cvss_test)):\n",
    "    cvss_true.append(cvss_test.iloc[i])"
   ]
  },
  {
   "cell_type": "code",
   "execution_count": 18,
   "metadata": {},
   "outputs": [
    {
     "name": "stdout",
     "output_type": "stream",
     "text": [
      "Mean squared error: 1.952\n",
      "Explained variance score (1 is the best): 0.279\n",
      "Max error: 14.952\n",
      "Mean absolute percentage error: 0.169\n",
      "R squared: 0.278\n"
     ]
    }
   ],
   "source": [
    "#evaluation\n",
    "from sklearn import metrics\n",
    "print(\"Mean squared error: %.3f\" %metrics.mean_squared_error(cvss_true, cvss_pred))\n",
    "print(\"Explained variance score (1 is the best): %.3f\" %metrics.explained_variance_score(cvss_true, cvss_pred))\n",
    "print(\"Max error: %.3f\" %metrics.max_error(cvss_true, cvss_pred))\n",
    "print(\"Mean absolute percentage error: %.3f\" %metrics.mean_absolute_percentage_error(cvss_true, cvss_pred))\n",
    "\n",
    "R2 = sgdreg.score(list_description_vec, cvss_test)\n",
    "print(\"R squared: %.3f\" %R2)\n"
   ]
  }
 ],
 "metadata": {
  "interpreter": {
   "hash": "d352f530d35ba9a8cbd74dc54ae14fe97a35856bed16a2f3b615ca61b68e7fcb"
  },
  "kernelspec": {
   "display_name": "Python 3.9.5 ('base')",
   "language": "python",
   "name": "python3"
  },
  "language_info": {
   "codemirror_mode": {
    "name": "ipython",
    "version": 3
   },
   "file_extension": ".py",
   "mimetype": "text/x-python",
   "name": "python",
   "nbconvert_exporter": "python",
   "pygments_lexer": "ipython3",
   "version": "3.9.5"
  },
  "orig_nbformat": 4
 },
 "nbformat": 4,
 "nbformat_minor": 2
}
