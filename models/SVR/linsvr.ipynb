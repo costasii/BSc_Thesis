{
 "cells": [
  {
   "cell_type": "code",
   "execution_count": 1,
   "metadata": {},
   "outputs": [],
   "source": [
    "import pandas as pd\n",
    "import numpy as np\n",
    "import spacy\n",
    "\n",
    "from sklearn.svm import SVR\n",
    "from sklearn.preprocessing import StandardScaler"
   ]
  },
  {
   "cell_type": "code",
   "execution_count": 2,
   "metadata": {},
   "outputs": [],
   "source": [
    "nlp = spacy.load(\"en_core_web_lg\")"
   ]
  },
  {
   "cell_type": "code",
   "execution_count": 3,
   "metadata": {},
   "outputs": [],
   "source": [
    "data_train = pd.read_csv('cve_train.csv')\n",
    "data_test = pd.read_csv('cve_test.csv')\n",
    "\n",
    "description_train = data_train['description']\n",
    "description_test = data_test['description']\n",
    "cvss_train = data_train['base_score']\n",
    "cvss_test = data_test['base_score']\n"
   ]
  },
  {
   "cell_type": "code",
   "execution_count": 4,
   "metadata": {},
   "outputs": [],
   "source": [
    "%store -r description_train_vectors"
   ]
  },
  {
   "cell_type": "code",
   "execution_count": 6,
   "metadata": {},
   "outputs": [],
   "source": [
    "sc_desc = StandardScaler()\n",
    "description_train_vectors = sc_desc.fit_transform(description_train_vectors, cvss_train)\n"
   ]
  },
  {
   "cell_type": "code",
   "execution_count": 14,
   "metadata": {},
   "outputs": [
    {
     "name": "stdout",
     "output_type": "stream",
     "text": [
      "Fitting 3 folds for each of 1 candidates, totalling 3 fits\n",
      "[CV 1/3; 1/1] START C=1.6424840082639252, epsilon=9.480102676571966e-06, tol=0.00010565389076571371\n",
      "[CV 1/3; 1/1] END C=1.6424840082639252, epsilon=9.480102676571966e-06, tol=0.00010565389076571371;, score=0.298 total time=   7.7s\n",
      "[CV 2/3; 1/1] START C=1.6424840082639252, epsilon=9.480102676571966e-06, tol=0.00010565389076571371\n",
      "[CV 2/3; 1/1] END C=1.6424840082639252, epsilon=9.480102676571966e-06, tol=0.00010565389076571371;, score=0.287 total time=   8.4s\n",
      "[CV 3/3; 1/1] START C=1.6424840082639252, epsilon=9.480102676571966e-06, tol=0.00010565389076571371\n",
      "[CV 3/3; 1/1] END C=1.6424840082639252, epsilon=9.480102676571966e-06, tol=0.00010565389076571371;, score=0.284 total time=   7.6s\n",
      "Fitting 3 folds for each of 1 candidates, totalling 3 fits\n",
      "[CV 1/3; 1/1] START C=23.775476182928614, epsilon=5.635875323709142e-06, tol=0.003847716189917322\n",
      "[CV 1/3; 1/1] END C=23.775476182928614, epsilon=5.635875323709142e-06, tol=0.003847716189917322;, score=0.297 total time=   3.6s\n",
      "[CV 2/3; 1/1] START C=23.775476182928614, epsilon=5.635875323709142e-06, tol=0.003847716189917322\n",
      "[CV 2/3; 1/1] END C=23.775476182928614, epsilon=5.635875323709142e-06, tol=0.003847716189917322;, score=0.287 total time=   5.2s\n",
      "[CV 3/3; 1/1] START C=23.775476182928614, epsilon=5.635875323709142e-06, tol=0.003847716189917322\n",
      "[CV 3/3; 1/1] END C=23.775476182928614, epsilon=5.635875323709142e-06, tol=0.003847716189917322;, score=0.283 total time=   3.8s\n",
      "Fitting 3 folds for each of 1 candidates, totalling 3 fits\n",
      "[CV 1/3; 1/1] START C=0.26618372220066155, epsilon=0.019611187318347607, tol=0.004227312918077001\n",
      "[CV 1/3; 1/1] END C=0.26618372220066155, epsilon=0.019611187318347607, tol=0.004227312918077001;, score=0.297 total time=   4.1s\n",
      "[CV 2/3; 1/1] START C=0.26618372220066155, epsilon=0.019611187318347607, tol=0.004227312918077001\n",
      "[CV 2/3; 1/1] END C=0.26618372220066155, epsilon=0.019611187318347607, tol=0.004227312918077001;, score=0.287 total time=   5.7s\n",
      "[CV 3/3; 1/1] START C=0.26618372220066155, epsilon=0.019611187318347607, tol=0.004227312918077001\n",
      "[CV 3/3; 1/1] END C=0.26618372220066155, epsilon=0.019611187318347607, tol=0.004227312918077001;, score=0.283 total time=   8.0s\n",
      "Fitting 3 folds for each of 1 candidates, totalling 3 fits\n",
      "[CV 1/3; 1/1] START C=0.06518930262914055, epsilon=2.1581620202214426e-06, tol=0.00015386857022078144\n",
      "[CV 1/3; 1/1] END C=0.06518930262914055, epsilon=2.1581620202214426e-06, tol=0.00015386857022078144;, score=0.298 total time=  16.4s\n",
      "[CV 2/3; 1/1] START C=0.06518930262914055, epsilon=2.1581620202214426e-06, tol=0.00015386857022078144\n",
      "[CV 2/3; 1/1] END C=0.06518930262914055, epsilon=2.1581620202214426e-06, tol=0.00015386857022078144;, score=0.287 total time=  16.6s\n",
      "[CV 3/3; 1/1] START C=0.06518930262914055, epsilon=2.1581620202214426e-06, tol=0.00015386857022078144\n",
      "[CV 3/3; 1/1] END C=0.06518930262914055, epsilon=2.1581620202214426e-06, tol=0.00015386857022078144;, score=0.284 total time=  19.0s\n",
      "Fitting 3 folds for each of 1 candidates, totalling 3 fits\n",
      "[CV 1/3; 1/1] START C=1.223150988524463, epsilon=0.0017259774462686937, tol=3.0011127136703073e-05\n",
      "[CV 1/3; 1/1] END C=1.223150988524463, epsilon=0.0017259774462686937, tol=3.0011127136703073e-05;, score=0.298 total time=  12.5s\n",
      "[CV 2/3; 1/1] START C=1.223150988524463, epsilon=0.0017259774462686937, tol=3.0011127136703073e-05\n",
      "[CV 2/3; 1/1] END C=1.223150988524463, epsilon=0.0017259774462686937, tol=3.0011127136703073e-05;, score=0.287 total time=  13.9s\n",
      "[CV 3/3; 1/1] START C=1.223150988524463, epsilon=0.0017259774462686937, tol=3.0011127136703073e-05\n",
      "[CV 3/3; 1/1] END C=1.223150988524463, epsilon=0.0017259774462686937, tol=3.0011127136703073e-05;, score=0.284 total time=  15.0s\n",
      "Fitting 3 folds for each of 1 candidates, totalling 3 fits\n",
      "[CV 1/3; 1/1] START C=4.7128090334450095, epsilon=1.2102360872268939e-05, tol=0.007639937533688685\n",
      "[CV 1/3; 1/1] END C=4.7128090334450095, epsilon=1.2102360872268939e-05, tol=0.007639937533688685;, score=0.292 total time=   1.2s\n",
      "[CV 2/3; 1/1] START C=4.7128090334450095, epsilon=1.2102360872268939e-05, tol=0.007639937533688685\n",
      "[CV 2/3; 1/1] END C=4.7128090334450095, epsilon=1.2102360872268939e-05, tol=0.007639937533688685;, score=0.278 total time=   1.2s\n",
      "[CV 3/3; 1/1] START C=4.7128090334450095, epsilon=1.2102360872268939e-05, tol=0.007639937533688685\n",
      "[CV 3/3; 1/1] END C=4.7128090334450095, epsilon=1.2102360872268939e-05, tol=0.007639937533688685;, score=0.275 total time=   1.1s\n",
      "Fitting 3 folds for each of 1 candidates, totalling 3 fits\n",
      "[CV 1/3; 1/1] START C=1.2919076497124624, epsilon=0.0032340599832559793, tol=3.605790298565084e-07\n",
      "[CV 1/3; 1/1] END C=1.2919076497124624, epsilon=0.0032340599832559793, tol=3.605790298565084e-07;, score=0.298 total time=  19.0s\n",
      "[CV 2/3; 1/1] START C=1.2919076497124624, epsilon=0.0032340599832559793, tol=3.605790298565084e-07\n",
      "[CV 2/3; 1/1] END C=1.2919076497124624, epsilon=0.0032340599832559793, tol=3.605790298565084e-07;, score=0.287 total time=  21.9s\n",
      "[CV 3/3; 1/1] START C=1.2919076497124624, epsilon=0.0032340599832559793, tol=3.605790298565084e-07\n",
      "[CV 3/3; 1/1] END C=1.2919076497124624, epsilon=0.0032340599832559793, tol=3.605790298565084e-07;, score=0.284 total time=  21.3s\n",
      "Fitting 3 folds for each of 1 candidates, totalling 3 fits\n",
      "[CV 1/3; 1/1] START C=0.2953316755601119, epsilon=0.023276456435918313, tol=3.162075119036719e-08\n",
      "[CV 1/3; 1/1] END C=0.2953316755601119, epsilon=0.023276456435918313, tol=3.162075119036719e-08;, score=0.298 total time=  29.3s\n",
      "[CV 2/3; 1/1] START C=0.2953316755601119, epsilon=0.023276456435918313, tol=3.162075119036719e-08\n",
      "[CV 2/3; 1/1] END C=0.2953316755601119, epsilon=0.023276456435918313, tol=3.162075119036719e-08;, score=0.287 total time=  24.7s\n",
      "[CV 3/3; 1/1] START C=0.2953316755601119, epsilon=0.023276456435918313, tol=3.162075119036719e-08\n",
      "[CV 3/3; 1/1] END C=0.2953316755601119, epsilon=0.023276456435918313, tol=3.162075119036719e-08;, score=0.284 total time=  25.6s\n",
      "Fitting 3 folds for each of 1 candidates, totalling 3 fits\n",
      "[CV 1/3; 1/1] START C=0.10754455207534402, epsilon=2.4121181622172716, tol=2.8518036683346092e-05\n",
      "[CV 1/3; 1/1] END C=0.10754455207534402, epsilon=2.4121181622172716, tol=2.8518036683346092e-05;, score=0.167 total time=   2.3s\n",
      "[CV 2/3; 1/1] START C=0.10754455207534402, epsilon=2.4121181622172716, tol=2.8518036683346092e-05\n",
      "[CV 2/3; 1/1] END C=0.10754455207534402, epsilon=2.4121181622172716, tol=2.8518036683346092e-05;, score=0.156 total time=   2.8s\n",
      "[CV 3/3; 1/1] START C=0.10754455207534402, epsilon=2.4121181622172716, tol=2.8518036683346092e-05\n",
      "[CV 3/3; 1/1] END C=0.10754455207534402, epsilon=2.4121181622172716, tol=2.8518036683346092e-05;, score=0.160 total time=   4.9s\n",
      "Fitting 3 folds for each of 1 candidates, totalling 3 fits\n",
      "[CV 1/3; 1/1] START C=10.879878110376987, epsilon=0.00010700049918066783, tol=0.009648863211843824\n",
      "[CV 1/3; 1/1] END C=10.879878110376987, epsilon=0.00010700049918066783, tol=0.009648863211843824;, score=0.292 total time=   1.2s\n",
      "[CV 2/3; 1/1] START C=10.879878110376987, epsilon=0.00010700049918066783, tol=0.009648863211843824\n",
      "[CV 2/3; 1/1] END C=10.879878110376987, epsilon=0.00010700049918066783, tol=0.009648863211843824;, score=0.278 total time=   1.2s\n",
      "[CV 3/3; 1/1] START C=10.879878110376987, epsilon=0.00010700049918066783, tol=0.009648863211843824\n",
      "[CV 3/3; 1/1] END C=10.879878110376987, epsilon=0.00010700049918066783, tol=0.009648863211843824;, score=0.275 total time=   1.0s\n",
      "Fitting 3 folds for each of 1 candidates, totalling 3 fits\n",
      "[CV 1/3; 1/1] START C=100.0, epsilon=1e-06, tol=1e-08...........................\n",
      "[CV 1/3; 1/1] END C=100.0, epsilon=1e-06, tol=1e-08;, score=0.298 total time=  41.0s\n",
      "[CV 2/3; 1/1] START C=100.0, epsilon=1e-06, tol=1e-08...........................\n",
      "[CV 2/3; 1/1] END C=100.0, epsilon=1e-06, tol=1e-08;, score=0.287 total time=  42.0s\n",
      "[CV 3/3; 1/1] START C=100.0, epsilon=1e-06, tol=1e-08...........................\n",
      "[CV 3/3; 1/1] END C=100.0, epsilon=1e-06, tol=1e-08;, score=0.284 total time=  25.1s\n",
      "Fitting 3 folds for each of 1 candidates, totalling 3 fits\n",
      "[CV 1/3; 1/1] START C=100.0, epsilon=0.007764798358523866, tol=1e-08............\n",
      "[CV 1/3; 1/1] END C=100.0, epsilon=0.007764798358523866, tol=1e-08;, score=0.298 total time=  22.1s\n",
      "[CV 2/3; 1/1] START C=100.0, epsilon=0.007764798358523866, tol=1e-08............\n",
      "[CV 2/3; 1/1] END C=100.0, epsilon=0.007764798358523866, tol=1e-08;, score=0.287 total time=  25.7s\n",
      "[CV 3/3; 1/1] START C=100.0, epsilon=0.007764798358523866, tol=1e-08............\n",
      "[CV 3/3; 1/1] END C=100.0, epsilon=0.007764798358523866, tol=1e-08;, score=0.284 total time=  27.9s\n",
      "Fitting 3 folds for each of 1 candidates, totalling 3 fits\n",
      "[CV 1/3; 1/1] START C=0.01, epsilon=0.0005778272613972924, tol=1e-08............\n",
      "[CV 1/3; 1/1] END C=0.01, epsilon=0.0005778272613972924, tol=1e-08;, score=0.298 total time=  18.4s\n",
      "[CV 2/3; 1/1] START C=0.01, epsilon=0.0005778272613972924, tol=1e-08............\n",
      "[CV 2/3; 1/1] END C=0.01, epsilon=0.0005778272613972924, tol=1e-08;, score=0.286 total time=  24.9s\n",
      "[CV 3/3; 1/1] START C=0.01, epsilon=0.0005778272613972924, tol=1e-08............\n",
      "[CV 3/3; 1/1] END C=0.01, epsilon=0.0005778272613972924, tol=1e-08;, score=0.284 total time=  17.3s\n",
      "Fitting 3 folds for each of 1 candidates, totalling 3 fits\n",
      "[CV 1/3; 1/1] START C=0.01, epsilon=0.008580904306747314, tol=0.01..............\n",
      "[CV 1/3; 1/1] END C=0.01, epsilon=0.008580904306747314, tol=0.01;, score=0.292 total time=   1.2s\n",
      "[CV 2/3; 1/1] START C=0.01, epsilon=0.008580904306747314, tol=0.01..............\n",
      "[CV 2/3; 1/1] END C=0.01, epsilon=0.008580904306747314, tol=0.01;, score=0.278 total time=   1.3s\n",
      "[CV 3/3; 1/1] START C=0.01, epsilon=0.008580904306747314, tol=0.01..............\n",
      "[CV 3/3; 1/1] END C=0.01, epsilon=0.008580904306747314, tol=0.01;, score=0.276 total time=   1.1s\n",
      "Fitting 3 folds for each of 1 candidates, totalling 3 fits\n",
      "[CV 1/3; 1/1] START C=0.016690532325087142, epsilon=3.623900787345879e-06, tol=1e-08\n",
      "[CV 1/3; 1/1] END C=0.016690532325087142, epsilon=3.623900787345879e-06, tol=1e-08;, score=0.298 total time=  19.0s\n",
      "[CV 2/3; 1/1] START C=0.016690532325087142, epsilon=3.623900787345879e-06, tol=1e-08\n",
      "[CV 2/3; 1/1] END C=0.016690532325087142, epsilon=3.623900787345879e-06, tol=1e-08;, score=0.287 total time=  20.1s\n",
      "[CV 3/3; 1/1] START C=0.016690532325087142, epsilon=3.623900787345879e-06, tol=1e-08\n",
      "[CV 3/3; 1/1] END C=0.016690532325087142, epsilon=3.623900787345879e-06, tol=1e-08;, score=0.284 total time=  22.2s\n",
      "Fitting 3 folds for each of 1 candidates, totalling 3 fits\n",
      "[CV 1/3; 1/1] START C=0.01, epsilon=1e-06, tol=0.01.............................\n",
      "[CV 1/3; 1/1] END C=0.01, epsilon=1e-06, tol=0.01;, score=0.292 total time=   1.6s\n",
      "[CV 2/3; 1/1] START C=0.01, epsilon=1e-06, tol=0.01.............................\n",
      "[CV 2/3; 1/1] END C=0.01, epsilon=1e-06, tol=0.01;, score=0.278 total time=   1.6s\n",
      "[CV 3/3; 1/1] START C=0.01, epsilon=1e-06, tol=0.01.............................\n",
      "[CV 3/3; 1/1] END C=0.01, epsilon=1e-06, tol=0.01;, score=0.276 total time=   1.5s\n",
      "val. score: 0.2895568892102325\n",
      "best params: OrderedDict([('C', 0.06518930262914055), ('epsilon', 2.1581620202214426e-06), ('tol', 0.00015386857022078144)])\n"
     ]
    }
   ],
   "source": [
    "from skopt import BayesSearchCV\n",
    "opt = BayesSearchCV(\n",
    "    LinearSVR(dual=False, loss='squared_epsilon_insensitive', max_iter=10000),\n",
    "    {\n",
    "        'C': (1e-2, 1e+2, 'log-uniform'),\n",
    "        'epsilon': (1e-6, 1e+1, 'log-uniform'),  \n",
    "        'tol': (1e-8, 1e-2, 'log-uniform'),\n",
    "\n",
    "    },\n",
    "    n_iter=16,\n",
    "    cv=3,\n",
    "    verbose=10,\n",
    ")\n",
    "\n",
    "opt.fit(description_train_vectors, cvss_train)\n",
    "\n",
    "print(\"val. score: %s\" % opt.best_score_)\n",
    "print(\"best params: %s\" % str(opt.best_params_))"
   ]
  },
  {
   "cell_type": "code",
   "execution_count": 15,
   "metadata": {},
   "outputs": [],
   "source": [
    "from sklearn.svm import LinearSVR\n",
    "\n",
    "linreg = LinearSVR(C= 0.06518930262914055, epsilon=2.1581620202214426e-06, tol=0.00015386857022078144, max_iter= 10000, dual=False, loss='squared_epsilon_insensitive')"
   ]
  },
  {
   "cell_type": "code",
   "execution_count": 16,
   "metadata": {},
   "outputs": [
    {
     "data": {
      "text/plain": [
       "LinearSVR(C=0.06518930262914055, dual=False, epsilon=2.1581620202214426e-06,\n",
       "          loss='squared_epsilon_insensitive', max_iter=10000,\n",
       "          tol=0.00015386857022078144)"
      ]
     },
     "execution_count": 16,
     "metadata": {},
     "output_type": "execute_result"
    }
   ],
   "source": [
    "linreg.fit(description_train_vectors, cvss_train)"
   ]
  },
  {
   "cell_type": "code",
   "execution_count": 9,
   "metadata": {},
   "outputs": [],
   "source": [
    "%store -r list_description_vec"
   ]
  },
  {
   "cell_type": "code",
   "execution_count": 10,
   "metadata": {},
   "outputs": [],
   "source": [
    "#scaling test data\n",
    "list_description_vec = sc_desc.fit_transform(list_description_vec, cvss_test)\n"
   ]
  },
  {
   "cell_type": "code",
   "execution_count": 17,
   "metadata": {},
   "outputs": [],
   "source": [
    "cvss_pred = []\n",
    "for desc_vec in list_description_vec:\n",
    "    cvss_pred.append(linreg.predict([desc_vec]))"
   ]
  },
  {
   "cell_type": "code",
   "execution_count": 18,
   "metadata": {},
   "outputs": [],
   "source": [
    "cvss_true = []\n",
    "for i in range(len(cvss_test)):\n",
    "    cvss_true.append(cvss_test.iloc[i])"
   ]
  },
  {
   "cell_type": "code",
   "execution_count": 21,
   "metadata": {},
   "outputs": [
    {
     "name": "stdout",
     "output_type": "stream",
     "text": [
      "Mean squared error: 1.888\n",
      "Explained variance score (1 is the best): 0.302\n",
      "Max error: 9.786\n",
      "Mean absolute percentage error: 0.169\n",
      "R squared: 0.302\n"
     ]
    }
   ],
   "source": [
    "#evaluation\n",
    "from sklearn import metrics\n",
    "print(\"Mean squared error: %.3f\" %metrics.mean_squared_error(cvss_true, cvss_pred))\n",
    "print(\"Explained variance score (1 is the best): %.3f\" %metrics.explained_variance_score(cvss_true, cvss_pred))\n",
    "print(\"Max error: %.3f\" %metrics.max_error(cvss_true, cvss_pred))\n",
    "print(\"Mean absolute percentage error: %.3f\" %metrics.mean_absolute_percentage_error(cvss_true, cvss_pred))\n",
    "\n",
    "R2 = linreg.score(list_description_vec, cvss_test)\n",
    "print(\"R squared: %.3f\" %R2)\n"
   ]
  },
  {
   "cell_type": "code",
   "execution_count": 20,
   "metadata": {},
   "outputs": [
    {
     "name": "stdout",
     "output_type": "stream",
     "text": [
      "[7.69888219]\n",
      "7.5\n",
      "\n",
      "[7.58447715]\n",
      "7.8\n",
      "\n",
      "[7.91776061]\n",
      "8.8\n",
      "\n",
      "[3.8901966]\n",
      "4.3\n",
      "\n",
      "[5.51097977]\n",
      "5.5\n",
      "\n",
      "[7.07508075]\n",
      "7.0\n",
      "\n",
      "[7.99662996]\n",
      "4.7\n",
      "\n",
      "[7.46021527]\n",
      "9.8\n",
      "\n",
      "[6.27587311]\n",
      "5.5\n",
      "\n",
      "[7.51795919]\n",
      "9.1\n",
      "\n",
      "[8.09886167]\n",
      "9.8\n",
      "\n",
      "[7.15293171]\n",
      "7.2\n",
      "\n",
      "[5.39200976]\n",
      "4.7\n",
      "\n",
      "[7.95976935]\n",
      "7.8\n",
      "\n",
      "[5.82185106]\n",
      "4.8\n",
      "\n",
      "[7.66412367]\n",
      "8.8\n",
      "\n",
      "[6.96079965]\n",
      "7.8\n",
      "\n",
      "[7.15364847]\n",
      "8.4\n",
      "\n",
      "[5.79968342]\n",
      "8.7\n",
      "\n",
      "[6.27082359]\n",
      "7.3\n",
      "\n"
     ]
    }
   ],
   "source": [
    "for i in range(0, 20):\n",
    "    print(cvss_pred[i])\n",
    "    print(cvss_true[i])\n",
    "    print()"
   ]
  }
 ],
 "metadata": {
  "interpreter": {
   "hash": "d352f530d35ba9a8cbd74dc54ae14fe97a35856bed16a2f3b615ca61b68e7fcb"
  },
  "kernelspec": {
   "display_name": "Python 3.9.5 ('base')",
   "language": "python",
   "name": "python3"
  },
  "language_info": {
   "codemirror_mode": {
    "name": "ipython",
    "version": 3
   },
   "file_extension": ".py",
   "mimetype": "text/x-python",
   "name": "python",
   "nbconvert_exporter": "python",
   "pygments_lexer": "ipython3",
   "version": "3.9.5"
  },
  "orig_nbformat": 4
 },
 "nbformat": 4,
 "nbformat_minor": 2
}
