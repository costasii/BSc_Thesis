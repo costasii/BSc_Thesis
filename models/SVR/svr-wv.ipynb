{
 "cells": [
  {
   "cell_type": "code",
   "execution_count": 1,
   "metadata": {},
   "outputs": [],
   "source": [
    "import os\n",
    "import sys"
   ]
  },
  {
   "cell_type": "code",
   "execution_count": 2,
   "metadata": {},
   "outputs": [],
   "source": [
    "import pandas as pd\n",
    "import matplotlib.pyplot as plt\n",
    "import numpy as np\n",
    "import spacy\n",
    "import seaborn as sns\n",
    "\n",
    "from sklearn.svm import SVR\n",
    "from sklearn.pipeline import make_pipeline\n",
    "from sklearn.preprocessing import StandardScaler\n",
    "\n"
   ]
  },
  {
   "cell_type": "code",
   "execution_count": 3,
   "metadata": {},
   "outputs": [],
   "source": [
    "nlp = spacy.load(\"en_core_web_lg\")"
   ]
  },
  {
   "cell_type": "code",
   "execution_count": 7,
   "metadata": {},
   "outputs": [],
   "source": [
    "data_train = pd.read_csv('cve_train.csv')\n",
    "data_test = pd.read_csv('cve_test.csv')"
   ]
  },
  {
   "cell_type": "code",
   "execution_count": 8,
   "metadata": {},
   "outputs": [],
   "source": [
    "#60000 too much data for SVR\n",
    "\n",
    "#taking 10000 sample for parameter tuning\n",
    "#taking 30000 sample for the model\n",
    "\n",
    "\n",
    "#stratifying subset \n",
    "\n",
    "from scipy.stats import gaussian_kde\n",
    "\n",
    "def samplestrat(df, stratifying_column_name, num_to_sample, maxrows_to_est = 10000, bw_per_range = 50, eval_points = 1000 ):\n",
    "    '''Take a sample of dataframe df stratified by stratifying_column_name\n",
    "    '''\n",
    "    strat_col_values = df[stratifying_column_name].values\n",
    "    samplcol = (df.sample(maxrows_to_est)  if df.shape[0] > maxrows_to_est else df  )[stratifying_column_name].values\n",
    "    vmin, vmax = min(samplcol), max(samplcol)\n",
    "    pts = np.linspace(vmin,vmax  ,eval_points) \n",
    "    kernel = gaussian_kde( samplcol , bw_method = float(  (vmax - vmin)/bw_per_range  )   )\n",
    "    density_estim_full = np.interp(strat_col_values, pts , kernel.evaluate(pts) )\n",
    "    return df.sample(n=num_to_sample, weights = 1/(density_estim_full))\n",
    "\n",
    "df_stratified_sample_par = samplestrat(data_train, 'base_score', 10000)\n",
    "\n",
    "df_stratified_sample_train = samplestrat(data_train, 'base_score', 30000)\n",
    "df_stratified_sample_test = samplestrat(data_test, 'base_score', 6000)"
   ]
  },
  {
   "cell_type": "code",
   "execution_count": 9,
   "metadata": {},
   "outputs": [],
   "source": [
    "data_par_desc = df_stratified_sample_par['description']\n",
    "data_par_label = df_stratified_sample_par['base_score']\n",
    "\n",
    "description_train = df_stratified_sample_train['description']\n",
    "description_test = df_stratified_sample_test['description']\n",
    "cvss_train = df_stratified_sample_train['base_score']\n",
    "cvss_test = df_stratified_sample_test['base_score']\n"
   ]
  },
  {
   "cell_type": "code",
   "execution_count": 10,
   "metadata": {},
   "outputs": [
    {
     "name": "stdout",
     "output_type": "stream",
     "text": [
      "(30000,)\n"
     ]
    }
   ],
   "source": [
    "#transform tokens of a description and summarize them\n",
    "vectors = description_train.apply(lambda row: sum([token.vector for token in nlp(row)]))\n",
    "print(vectors.shape)"
   ]
  },
  {
   "cell_type": "code",
   "execution_count": 11,
   "metadata": {},
   "outputs": [],
   "source": [
    "description_train_vectors = list(vectors)\n"
   ]
  },
  {
   "cell_type": "code",
   "execution_count": 12,
   "metadata": {},
   "outputs": [
    {
     "name": "stdout",
     "output_type": "stream",
     "text": [
      "Stored 'description_train_vectors' (list)\n"
     ]
    }
   ],
   "source": [
    "%store description_train_vectors"
   ]
  },
  {
   "cell_type": "code",
   "execution_count": 21,
   "metadata": {},
   "outputs": [],
   "source": [
    "%store -r description_train_vectors"
   ]
  },
  {
   "cell_type": "code",
   "execution_count": 13,
   "metadata": {},
   "outputs": [
    {
     "name": "stdout",
     "output_type": "stream",
     "text": [
      "[ 0.1245122  -0.25801587 -0.10209522 -0.01510228  0.04310671 -0.19506345\n",
      " -0.61113676  0.20186753  0.04483638 -0.31447435  0.4451127  -0.07482078\n",
      " -0.38495869 -0.06195115  0.42013075 -1.08013211  0.67138999 -0.53271895\n",
      " -0.2137922   0.62954027 -0.06912114  0.05011227  0.10429723 -0.41640463\n",
      " -0.68656238  0.18970473 -0.10256787 -0.1896575   0.03612746 -0.92586813\n",
      "  0.40986534 -0.26668716  0.53808125  0.07132054  0.08055102  0.04999981\n",
      "  0.33535083 -1.04572235 -0.79976425  0.76547732  0.63722697 -1.22760789\n",
      " -0.18567674  0.65270683 -0.04576949 -0.56779373 -0.02167229 -1.33686556\n",
      "  0.66972635 -0.61200699  0.3391031  -0.77737214 -0.05992034 -0.0271695\n",
      " -0.12678932  0.55201463  0.18100628 -0.37521987 -1.01813239  0.64420233\n",
      "  0.31927977 -0.28655715  0.5099606  -0.06361728 -0.77188526 -0.0103316\n",
      "  0.35185937  0.40612761  0.38422565 -0.3934119  -0.17132857  0.0831471\n",
      " -0.26456515  0.24031414 -0.06194476 -0.2786562   0.44771887  0.85489662\n",
      "  0.37155195 -0.581639    0.34777811  0.13862769  0.21519305 -0.8018598\n",
      "  0.36122576 -0.1106443   0.17342976  0.33907261 -0.15952374  0.06895224\n",
      "  0.40278863 -1.0411313   0.40306274  0.7598614  -0.43284194  0.2497964\n",
      " -0.06989817  0.18138027 -0.76669913 -0.06820178  0.64756039  0.32588546\n",
      "  0.09155235 -0.11002348 -0.10093701  0.02057251 -0.911983   -0.67947655\n",
      " -0.16742495  0.05064191 -0.54905478  0.04183866  0.06038696  0.10969415\n",
      "  0.55987627 -0.74195885  0.41828265 -0.06223668 -0.0129075   0.10863338\n",
      "  0.24801768  0.73174353  0.38361414  1.03180305  0.47057669 -0.1077479\n",
      " -0.33717187  0.05018201 -0.8188546   0.16059976  0.42085494 -0.53857454\n",
      "  0.15579702 -0.31472429  1.65465114  0.20544137  0.57530184  0.08296548\n",
      " -0.32012046  0.61854905  0.67489517  0.41076161 -0.23474212  0.06903188\n",
      "  0.37925859 -0.00486997  0.59594747 -0.04085597  0.12995336  0.2576144\n",
      " -0.14807657 -0.46265598  0.04610802  0.75603442 -0.88031654 -0.04940446\n",
      "  0.52226441 -0.1779553  -0.70683619 -0.05741911  0.41787226  0.81629134\n",
      " -0.74047071  0.63206382  0.43532736 -0.63048961  0.03727273  0.32807204\n",
      " -0.2656625  -0.24512903 -1.15017942  0.30521354 -0.31340285  0.82101659\n",
      " -0.40307232 -0.04214904  0.3995638  -0.17555047  0.24865712  0.2618071\n",
      " -0.36292006  0.36361105 -0.77541335  0.75606491  0.44740165 -0.56177553\n",
      "  0.25813994 -0.39474803  0.01006284 -0.82243497  0.18413023  0.2634899\n",
      " -0.17186735 -0.58961825 -0.58128522  0.20427738  0.74324007  0.22415681\n",
      "  0.05447852 -0.20536122 -0.69245365  0.14198766  0.62500222 -0.27425961\n",
      " -0.60189134  0.52070287 -0.17662679  0.65099044  1.2107987   0.27116875\n",
      " -0.90567953  0.33060531  0.16896867 -0.09673218 -0.51388937 -0.32474861\n",
      "  0.60370283  0.23304727  0.66584914 -0.07664338 -0.34414498  0.61527795\n",
      " -0.03091245 -0.2856702   0.19664968  0.45339158 -0.84405324  0.07600974\n",
      "  0.0382544  -0.54690219  0.69642198 -0.12408142 -0.04553151  0.20308112\n",
      "  0.25295336 -0.39644631  0.03743711  0.34535508  0.10521131 -0.7134264\n",
      " -0.49097817 -0.55195332 -0.65248799  0.02031732 -0.49443136  0.50660721\n",
      "  0.3202624   0.08832774  0.03204744 -0.10944648  0.08442424 -0.28529498\n",
      "  0.0078296   0.29413546 -0.21490184 -0.46073657  0.8174445   0.46001135\n",
      "  0.13110248  0.64260343 -0.53020584 -1.02206288 -0.81894361 -0.0381121\n",
      "  0.49016958  0.79763541 -0.07972195  0.10661925 -0.32730559  0.17532633\n",
      "  0.50157741 -0.84246451  0.167956    0.22571182  0.50367115 -0.32104608\n",
      " -0.39243399  0.37689779  0.31676133 -0.00420157 -0.35991436  0.04883887\n",
      " -0.35327229 -0.21981407 -0.13650412  0.57640319  0.35019927  0.29264011\n",
      "  0.13139467  0.15574842  0.31497484 -0.27311984  0.29850549 -0.03505473\n",
      "  0.40318901 -0.55046407 -0.03423332  0.44459182  0.73844262 -1.18959489]\n"
     ]
    }
   ],
   "source": [
    "sc_desc = StandardScaler()\n",
    "description_train_vectors = sc_desc.fit_transform(description_train_vectors, cvss_train)\n",
    "\n",
    "print(description_train_vectors[0])"
   ]
  },
  {
   "cell_type": "code",
   "execution_count": 15,
   "metadata": {},
   "outputs": [],
   "source": [
    "vectors_par = data_par_desc.apply(lambda row: sum([token.vector for token in nlp(row)]))\n",
    "data_par_desc = list(vectors_par)"
   ]
  },
  {
   "cell_type": "code",
   "execution_count": 16,
   "metadata": {},
   "outputs": [],
   "source": [
    "sc_desc = StandardScaler()\n",
    "data_par_desc = sc_desc.fit_transform(data_par_desc, data_par_label)"
   ]
  },
  {
   "cell_type": "code",
   "execution_count": 24,
   "metadata": {},
   "outputs": [
    {
     "name": "stdout",
     "output_type": "stream",
     "text": [
      "{'C': 1.0, 'cache_size': 200, 'coef0': 0.0, 'degree': 3, 'epsilon': 0.1, 'gamma': 'scale', 'kernel': 'rbf', 'max_iter': -1, 'shrinking': True, 'tol': 0.001, 'verbose': False}\n"
     ]
    }
   ],
   "source": [
    "print(SVR().get_params())"
   ]
  },
  {
   "cell_type": "code",
   "execution_count": 17,
   "metadata": {},
   "outputs": [
    {
     "name": "stdout",
     "output_type": "stream",
     "text": [
      "Fitting 3 folds for each of 1 candidates, totalling 3 fits\n",
      "[CV 1/3; 1/1] START C=0.3644681309334306, epsilon=0.00016794683823041705, tol=0.0036783764167289982\n",
      "[CV 1/3; 1/1] END C=0.3644681309334306, epsilon=0.00016794683823041705, tol=0.0036783764167289982;, score=0.296 total time=  15.9s\n",
      "[CV 2/3; 1/1] START C=0.3644681309334306, epsilon=0.00016794683823041705, tol=0.0036783764167289982\n",
      "[CV 2/3; 1/1] END C=0.3644681309334306, epsilon=0.00016794683823041705, tol=0.0036783764167289982;, score=0.330 total time=  17.0s\n",
      "[CV 3/3; 1/1] START C=0.3644681309334306, epsilon=0.00016794683823041705, tol=0.0036783764167289982\n",
      "[CV 3/3; 1/1] END C=0.3644681309334306, epsilon=0.00016794683823041705, tol=0.0036783764167289982;, score=0.245 total time=  15.1s\n",
      "Fitting 3 folds for each of 1 candidates, totalling 3 fits\n",
      "[CV 1/3; 1/1] START C=0.08022049287843402, epsilon=5.2194449863061625e-06, tol=5.410355643682597e-05\n",
      "[CV 1/3; 1/1] END C=0.08022049287843402, epsilon=5.2194449863061625e-06, tol=5.410355643682597e-05;, score=0.179 total time=  14.3s\n",
      "[CV 2/3; 1/1] START C=0.08022049287843402, epsilon=5.2194449863061625e-06, tol=5.410355643682597e-05\n",
      "[CV 2/3; 1/1] END C=0.08022049287843402, epsilon=5.2194449863061625e-06, tol=5.410355643682597e-05;, score=0.219 total time=  18.0s\n",
      "[CV 3/3; 1/1] START C=0.08022049287843402, epsilon=5.2194449863061625e-06, tol=5.410355643682597e-05\n",
      "[CV 3/3; 1/1] END C=0.08022049287843402, epsilon=5.2194449863061625e-06, tol=5.410355643682597e-05;, score=0.137 total time=  15.4s\n",
      "Fitting 3 folds for each of 1 candidates, totalling 3 fits\n",
      "[CV 1/3; 1/1] START C=31.66676109489223, epsilon=0.7320953088587447, tol=0.0031250754673674357\n",
      "[CV 1/3; 1/1] END C=31.66676109489223, epsilon=0.7320953088587447, tol=0.0031250754673674357;, score=0.407 total time=  11.4s\n",
      "[CV 2/3; 1/1] START C=31.66676109489223, epsilon=0.7320953088587447, tol=0.0031250754673674357\n",
      "[CV 2/3; 1/1] END C=31.66676109489223, epsilon=0.7320953088587447, tol=0.0031250754673674357;, score=0.402 total time=  12.1s\n",
      "[CV 3/3; 1/1] START C=31.66676109489223, epsilon=0.7320953088587447, tol=0.0031250754673674357\n",
      "[CV 3/3; 1/1] END C=31.66676109489223, epsilon=0.7320953088587447, tol=0.0031250754673674357;, score=0.325 total time=   9.2s\n",
      "Fitting 3 folds for each of 1 candidates, totalling 3 fits\n",
      "[CV 1/3; 1/1] START C=0.07289304697379864, epsilon=0.00021704371543158386, tol=0.001261947441328608\n",
      "[CV 1/3; 1/1] END C=0.07289304697379864, epsilon=0.00021704371543158386, tol=0.001261947441328608;, score=0.172 total time=  12.9s\n",
      "[CV 2/3; 1/1] START C=0.07289304697379864, epsilon=0.00021704371543158386, tol=0.001261947441328608\n",
      "[CV 2/3; 1/1] END C=0.07289304697379864, epsilon=0.00021704371543158386, tol=0.001261947441328608;, score=0.211 total time=  13.2s\n",
      "[CV 3/3; 1/1] START C=0.07289304697379864, epsilon=0.00021704371543158386, tol=0.001261947441328608\n",
      "[CV 3/3; 1/1] END C=0.07289304697379864, epsilon=0.00021704371543158386, tol=0.001261947441328608;, score=0.130 total time=  12.6s\n",
      "Fitting 3 folds for each of 1 candidates, totalling 3 fits\n",
      "[CV 1/3; 1/1] START C=0.07205378096556744, epsilon=0.02309131636662366, tol=1.1705652354887195e-05\n",
      "[CV 1/3; 1/1] END C=0.07205378096556744, epsilon=0.02309131636662366, tol=1.1705652354887195e-05;, score=0.171 total time=  12.3s\n",
      "[CV 2/3; 1/1] START C=0.07205378096556744, epsilon=0.02309131636662366, tol=1.1705652354887195e-05\n",
      "[CV 2/3; 1/1] END C=0.07205378096556744, epsilon=0.02309131636662366, tol=1.1705652354887195e-05;, score=0.210 total time=  13.1s\n",
      "[CV 3/3; 1/1] START C=0.07205378096556744, epsilon=0.02309131636662366, tol=1.1705652354887195e-05\n",
      "[CV 3/3; 1/1] END C=0.07205378096556744, epsilon=0.02309131636662366, tol=1.1705652354887195e-05;, score=0.130 total time=  16.3s\n",
      "Fitting 3 folds for each of 1 candidates, totalling 3 fits\n",
      "[CV 1/3; 1/1] START C=1.271061603642394, epsilon=1.5484137573997843, tol=0.001365713521730586\n",
      "[CV 1/3; 1/1] END C=1.271061603642394, epsilon=1.5484137573997843, tol=0.001365713521730586;, score=0.299 total time=   5.9s\n",
      "[CV 2/3; 1/1] START C=1.271061603642394, epsilon=1.5484137573997843, tol=0.001365713521730586\n",
      "[CV 2/3; 1/1] END C=1.271061603642394, epsilon=1.5484137573997843, tol=0.001365713521730586;, score=0.349 total time=   5.7s\n",
      "[CV 3/3; 1/1] START C=1.271061603642394, epsilon=1.5484137573997843, tol=0.001365713521730586\n",
      "[CV 3/3; 1/1] END C=1.271061603642394, epsilon=1.5484137573997843, tol=0.001365713521730586;, score=0.277 total time=   5.6s\n",
      "Fitting 3 folds for each of 1 candidates, totalling 3 fits\n",
      "[CV 1/3; 1/1] START C=11.936452334977151, epsilon=1.5403049346418458, tol=0.00013515601881146586\n",
      "[CV 1/3; 1/1] END C=11.936452334977151, epsilon=1.5403049346418458, tol=0.00013515601881146586;, score=0.362 total time=   5.5s\n",
      "[CV 2/3; 1/1] START C=11.936452334977151, epsilon=1.5403049346418458, tol=0.00013515601881146586\n",
      "[CV 2/3; 1/1] END C=11.936452334977151, epsilon=1.5403049346418458, tol=0.00013515601881146586;, score=0.391 total time=   5.7s\n",
      "[CV 3/3; 1/1] START C=11.936452334977151, epsilon=1.5403049346418458, tol=0.00013515601881146586\n",
      "[CV 3/3; 1/1] END C=11.936452334977151, epsilon=1.5403049346418458, tol=0.00013515601881146586;, score=0.307 total time=   5.7s\n",
      "Fitting 3 folds for each of 1 candidates, totalling 3 fits\n",
      "[CV 1/3; 1/1] START C=0.13235730426090642, epsilon=0.08666182291748938, tol=5.2088720364428e-06\n",
      "[CV 1/3; 1/1] END C=0.13235730426090642, epsilon=0.08666182291748938, tol=5.2088720364428e-06;, score=0.220 total time=  14.6s\n",
      "[CV 2/3; 1/1] START C=0.13235730426090642, epsilon=0.08666182291748938, tol=5.2088720364428e-06\n",
      "[CV 2/3; 1/1] END C=0.13235730426090642, epsilon=0.08666182291748938, tol=5.2088720364428e-06;, score=0.260 total time=  14.9s\n",
      "[CV 3/3; 1/1] START C=0.13235730426090642, epsilon=0.08666182291748938, tol=5.2088720364428e-06\n",
      "[CV 3/3; 1/1] END C=0.13235730426090642, epsilon=0.08666182291748938, tol=5.2088720364428e-06;, score=0.174 total time=  14.9s\n",
      "Fitting 3 folds for each of 1 candidates, totalling 3 fits\n",
      "[CV 1/3; 1/1] START C=2.5798507941465125, epsilon=5.928202494172701, tol=0.000134817823350229\n",
      "[CV 1/3; 1/1] END C=2.5798507941465125, epsilon=5.928202494172701, tol=0.000134817823350229;, score=-0.012 total time=   0.0s\n",
      "[CV 2/3; 1/1] START C=2.5798507941465125, epsilon=5.928202494172701, tol=0.000134817823350229\n",
      "[CV 2/3; 1/1] END C=2.5798507941465125, epsilon=5.928202494172701, tol=0.000134817823350229;, score=-0.133 total time=   0.0s\n",
      "[CV 3/3; 1/1] START C=2.5798507941465125, epsilon=5.928202494172701, tol=0.000134817823350229\n",
      "[CV 3/3; 1/1] END C=2.5798507941465125, epsilon=5.928202494172701, tol=0.000134817823350229;, score=-0.293 total time=   0.0s\n",
      "Fitting 3 folds for each of 1 candidates, totalling 3 fits\n",
      "[CV 1/3; 1/1] START C=9.221661390217513, epsilon=8.281574573877815, tol=1.0355253521215321e-05\n",
      "[CV 1/3; 1/1] END C=9.221661390217513, epsilon=8.281574573877815, tol=1.0355253521215321e-05;, score=-0.012 total time=   0.0s\n",
      "[CV 2/3; 1/1] START C=9.221661390217513, epsilon=8.281574573877815, tol=1.0355253521215321e-05\n",
      "[CV 2/3; 1/1] END C=9.221661390217513, epsilon=8.281574573877815, tol=1.0355253521215321e-05;, score=-0.133 total time=   0.0s\n",
      "[CV 3/3; 1/1] START C=9.221661390217513, epsilon=8.281574573877815, tol=1.0355253521215321e-05\n",
      "[CV 3/3; 1/1] END C=9.221661390217513, epsilon=8.281574573877815, tol=1.0355253521215321e-05;, score=-0.293 total time=   0.0s\n",
      "val. score: 0.37815730708827333\n",
      "best params: OrderedDict([('C', 31.66676109489223), ('epsilon', 0.7320953088587447), ('tol', 0.0031250754673674357)])\n"
     ]
    }
   ],
   "source": [
    "from skopt import BayesSearchCV\n",
    "opt = BayesSearchCV(\n",
    "    SVR(kernel='rbf'),\n",
    "    {\n",
    "        #'kernel': (['linear', 'rbf']),\n",
    "        'C': (1e-2, 1e+2, 'log-uniform'),\n",
    "        'epsilon': (1e-6, 1e+1, 'log-uniform'),  \n",
    "        'tol': (1e-6, 1e-2, 'log-uniform'),\n",
    "\n",
    "    },\n",
    "    n_iter=10,\n",
    "    cv=3,\n",
    "    verbose=10,\n",
    ")\n",
    "\n",
    "opt.fit(data_par_desc, data_par_label)\n",
    "\n",
    "print(\"val. score: %s\" % opt.best_score_)\n",
    "print(\"best params: %s\" % str(opt.best_params_))"
   ]
  },
  {
   "cell_type": "code",
   "execution_count": 18,
   "metadata": {},
   "outputs": [],
   "source": [
    "reg = SVR(C=31.66676109489223, epsilon=0.7320953088587447, kernel='rbf', tol= 0.0031250754673674357)"
   ]
  },
  {
   "cell_type": "code",
   "execution_count": 19,
   "metadata": {},
   "outputs": [
    {
     "data": {
      "text/plain": [
       "SVR(C=31.66676109489223, epsilon=0.7320953088587447, tol=0.0031250754673674357)"
      ]
     },
     "execution_count": 19,
     "metadata": {},
     "output_type": "execute_result"
    }
   ],
   "source": [
    "reg.fit(description_train_vectors, cvss_train)"
   ]
  },
  {
   "cell_type": "code",
   "execution_count": 20,
   "metadata": {},
   "outputs": [],
   "source": [
    "#put test data into a list\n",
    "list_description = []\n",
    "for i in range(len(description_test)):\n",
    "    list_description.append(description_test.iloc[i])"
   ]
  },
  {
   "cell_type": "code",
   "execution_count": 21,
   "metadata": {},
   "outputs": [],
   "source": [
    "list_description_vec = []\n",
    "for desc in list_description:\n",
    "    list_description_vec.append(sum([token.vector for token in nlp(desc)]))"
   ]
  },
  {
   "cell_type": "code",
   "execution_count": 22,
   "metadata": {},
   "outputs": [
    {
     "name": "stdout",
     "output_type": "stream",
     "text": [
      "Stored 'list_description_vec' (list)\n"
     ]
    }
   ],
   "source": [
    "%store list_description_vec"
   ]
  },
  {
   "cell_type": "code",
   "execution_count": null,
   "metadata": {},
   "outputs": [],
   "source": [
    "%store -r list_description_vec"
   ]
  },
  {
   "cell_type": "code",
   "execution_count": 23,
   "metadata": {},
   "outputs": [],
   "source": [
    "#scaling test data\n",
    "list_description_vec = sc_desc.fit_transform(list_description_vec, cvss_test)\n"
   ]
  },
  {
   "cell_type": "code",
   "execution_count": 24,
   "metadata": {},
   "outputs": [],
   "source": [
    "cvss_pred = []\n",
    "for desc_vec in list_description_vec:\n",
    "    cvss_pred.append(reg.predict([desc_vec]))"
   ]
  },
  {
   "cell_type": "code",
   "execution_count": 25,
   "metadata": {},
   "outputs": [],
   "source": [
    "cvss_true = []\n",
    "for i in range(len(cvss_test)):\n",
    "    cvss_true.append(cvss_test.iloc[i])"
   ]
  },
  {
   "cell_type": "code",
   "execution_count": 27,
   "metadata": {},
   "outputs": [
    {
     "name": "stdout",
     "output_type": "stream",
     "text": [
      "Mean squared error: 1.711\n",
      "Explained variance score (1 is the best): 0.504\n",
      "Max error: 6.186\n",
      "Mean absolute percentage error: 0.167\n",
      "R squared: 0.503\n"
     ]
    }
   ],
   "source": [
    "#evaluation\n",
    "from sklearn import metrics\n",
    "print(\"Mean squared error: %.3f\" %metrics.mean_squared_error(cvss_true, cvss_pred))\n",
    "print(\"Explained variance score (1 is the best): %.3f\" %metrics.explained_variance_score(cvss_true, cvss_pred))\n",
    "print(\"Max error: %.3f\" %metrics.max_error(cvss_true, cvss_pred))\n",
    "print(\"Mean absolute percentage error: %.3f\" %metrics.mean_absolute_percentage_error(cvss_true, cvss_pred))\n",
    "\n",
    "R2 = reg.score(list_description_vec, cvss_test)\n",
    "print(\"R squared: %.3f\" %R2)\n"
   ]
  },
  {
   "cell_type": "code",
   "execution_count": 28,
   "metadata": {},
   "outputs": [
    {
     "name": "stdout",
     "output_type": "stream",
     "text": [
      "[5.5857803]\n",
      "4.0\n",
      "\n",
      "[4.2722534]\n",
      "3.1\n",
      "\n",
      "[5.53628132]\n",
      "4.8\n",
      "\n",
      "[4.5160291]\n",
      "2.4\n",
      "\n",
      "[6.8411017]\n",
      "9.8\n",
      "\n",
      "[1.64159088]\n",
      "2.4\n",
      "\n",
      "[5.99479267]\n",
      "4.3\n",
      "\n",
      "[4.78684343]\n",
      "5.4\n",
      "\n",
      "[4.98412064]\n",
      "4.7\n",
      "\n",
      "[7.09561064]\n",
      "3.3\n",
      "\n",
      "[4.88469674]\n",
      "5.5\n",
      "\n",
      "[7.42438029]\n",
      "6.5\n",
      "\n",
      "[5.89568625]\n",
      "8.1\n",
      "\n",
      "[7.38185366]\n",
      "7.5\n",
      "\n",
      "[6.34007356]\n",
      "3.3\n",
      "\n",
      "[8.11896706]\n",
      "3.5\n",
      "\n",
      "[4.6089984]\n",
      "2.7\n",
      "\n",
      "[6.81428832]\n",
      "4.3\n",
      "\n",
      "[6.96021133]\n",
      "6.5\n",
      "\n",
      "[8.78866624]\n",
      "8.8\n",
      "\n"
     ]
    }
   ],
   "source": [
    "for i in range(0, 20):\n",
    "    print(cvss_pred[i])\n",
    "    print(cvss_true[i])\n",
    "    print()"
   ]
  },
  {
   "cell_type": "code",
   "execution_count": 29,
   "metadata": {},
   "outputs": [],
   "source": [
    "import pickle\n",
    "pickle.dump(reg, open('svm_model', 'wb'))"
   ]
  }
 ],
 "metadata": {
  "interpreter": {
   "hash": "d352f530d35ba9a8cbd74dc54ae14fe97a35856bed16a2f3b615ca61b68e7fcb"
  },
  "kernelspec": {
   "display_name": "Python 3.9.5 ('base')",
   "language": "python",
   "name": "python3"
  },
  "language_info": {
   "codemirror_mode": {
    "name": "ipython",
    "version": 3
   },
   "file_extension": ".py",
   "mimetype": "text/x-python",
   "name": "python",
   "nbconvert_exporter": "python",
   "pygments_lexer": "ipython3",
   "version": "3.9.5"
  },
  "orig_nbformat": 4
 },
 "nbformat": 4,
 "nbformat_minor": 2
}
