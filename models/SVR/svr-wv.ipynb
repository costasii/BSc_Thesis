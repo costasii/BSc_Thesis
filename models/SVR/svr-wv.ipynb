{
 "cells": [
  {
   "cell_type": "code",
   "execution_count": 1,
   "metadata": {},
   "outputs": [],
   "source": [
    "import os\n",
    "import sys"
   ]
  },
  {
   "cell_type": "code",
   "execution_count": 2,
   "metadata": {},
   "outputs": [],
   "source": [
    "import pandas as pd\n",
    "import matplotlib.pyplot as plt\n",
    "import numpy as np\n",
    "import spacy\n",
    "import seaborn as sns\n",
    "\n",
    "from sklearn.svm import SVR\n",
    "from sklearn.pipeline import make_pipeline\n",
    "from sklearn.preprocessing import StandardScaler\n",
    "\n"
   ]
  },
  {
   "cell_type": "code",
   "execution_count": 3,
   "metadata": {},
   "outputs": [],
   "source": [
    "nlp = spacy.load(\"en_core_web_lg\")"
   ]
  },
  {
   "cell_type": "code",
   "execution_count": 23,
   "metadata": {},
   "outputs": [],
   "source": [
    "data_train = pd.read_csv('cve_train.csv')\n",
    "data_test = pd.read_csv('cve_test.csv')\n",
    "\n",
    "description_train = data_train['description']\n",
    "description_test = data_test['description']\n",
    "cvss_train = data_train['base_score']\n",
    "cvss_test = data_test['base_score']\n"
   ]
  },
  {
   "cell_type": "code",
   "execution_count": 25,
   "metadata": {},
   "outputs": [
    {
     "name": "stdout",
     "output_type": "stream",
     "text": [
      "0        8.8\n",
      "1        9.1\n",
      "2        5.5\n",
      "3        6.1\n",
      "4        7.3\n",
      "        ... \n",
      "61611    8.2\n",
      "61612    6.1\n",
      "61613    7.8\n",
      "61614    3.3\n",
      "61615    9.8\n",
      "Name: base_score, Length: 61616, dtype: float64\n"
     ]
    }
   ],
   "source": [
    "print(cvss_train)"
   ]
  },
  {
   "cell_type": "code",
   "execution_count": 12,
   "metadata": {},
   "outputs": [
    {
     "name": "stdout",
     "output_type": "stream",
     "text": [
      "0    A remote code exection vulnerability was ident...\n",
      "1    An information disclosure vulnerability in the...\n",
      "2    The JPEGSetupEncode function in tiff_jpeg.c in...\n",
      "3    Cloud Foundry UAA, versions prior to 74.0.0, i...\n",
      "4    This affects the package ini before 1.3.6. If ...\n",
      "Name: description, dtype: object\n"
     ]
    }
   ],
   "source": [
    "print(description_train.head())"
   ]
  },
  {
   "cell_type": "code",
   "execution_count": 26,
   "metadata": {},
   "outputs": [],
   "source": [
    "#transform tokens of a description and summarize them\n",
    "vectors = description_train.apply(lambda row: sum([token.vector for token in nlp(row)]))\n",
    "print(vectors.shape)"
   ]
  },
  {
   "cell_type": "code",
   "execution_count": 27,
   "metadata": {},
   "outputs": [
    {
     "name": "stdout",
     "output_type": "stream",
     "text": [
      "0        [-0.290974, 1.6305345, -0.316373, -3.2254272, ...\n",
      "1        [-1.1581886, 3.2051346, -2.1144085, -1.3569508...\n",
      "2        [-1.6946248, 3.195875, -2.814146, 1.3719728, -...\n",
      "3        [-1.231077, 0.8149179, -1.9220165, 1.7865016, ...\n",
      "4        [-0.4985961, 2.9195516, -4.0118856, 1.028444, ...\n",
      "                               ...                        \n",
      "61611    [-10.701544, 14.247082, -19.5394, 3.019741, -0...\n",
      "61612    [-0.79379004, 9.049169, -2.4394453, -0.6517568...\n",
      "61613    [-0.023308024, 0.8243772, 0.19929908, -1.43010...\n",
      "61614    [-7.1296678, 1.413902, -7.289835, 4.026337, -4...\n",
      "61615    [-4.5847507, 3.6791933, -0.65691996, 2.024829,...\n",
      "Name: description, Length: 61616, dtype: object\n",
      "0        8.8\n",
      "1        9.1\n",
      "2        5.5\n",
      "3        6.1\n",
      "4        7.3\n",
      "        ... \n",
      "61611    8.2\n",
      "61612    6.1\n",
      "61613    7.8\n",
      "61614    3.3\n",
      "61615    9.8\n",
      "Name: base_score, Length: 61616, dtype: float64\n"
     ]
    }
   ],
   "source": [
    "print(vectors)\n",
    "print(cvss_train)"
   ]
  },
  {
   "cell_type": "code",
   "execution_count": 30,
   "metadata": {},
   "outputs": [
    {
     "data": {
      "text/plain": [
       "SVR()"
      ]
     },
     "execution_count": 30,
     "metadata": {},
     "output_type": "execute_result"
    }
   ],
   "source": [
    "description_train_vectors = list(vectors)\n",
    "\n",
    "sc_desc = StandardScaler()\n",
    "#sc_cvss = StandardScaler()\n",
    "description_train_vectors = sc_desc.fit_transform(description_train_vectors)\n",
    "\n",
    "#cvss_train = sc_cvss.fit_transform(cvss_train.reshape(-1,1))\n",
    "\n",
    "reg = SVR(kernel='rbf')\n",
    "reg.fit(description_train_vectors, cvss_train)"
   ]
  },
  {
   "cell_type": "code",
   "execution_count": 31,
   "metadata": {},
   "outputs": [],
   "source": [
    "#put test data into a list\n",
    "list_description = []\n",
    "for i in range(len(description_test)):\n",
    "    list_description.append(description_test.iloc[i])"
   ]
  },
  {
   "cell_type": "code",
   "execution_count": 32,
   "metadata": {},
   "outputs": [],
   "source": [
    "list_description_vec = []\n",
    "for desc in list_description:\n",
    "    list_description_vec.append(sum([token.vector for token in nlp(desc)]))"
   ]
  },
  {
   "cell_type": "code",
   "execution_count": 33,
   "metadata": {},
   "outputs": [],
   "source": [
    "cvss_pred = []\n",
    "for desc_vec in list_description_vec:\n",
    "    cvss_pred.append(reg.predict([desc_vec]))"
   ]
  },
  {
   "cell_type": "code",
   "execution_count": 34,
   "metadata": {},
   "outputs": [],
   "source": [
    "cvss_true = []\n",
    "for i in range(len(cvss_test)):\n",
    "    cvss_true.append(cvss_test.iloc[i])"
   ]
  },
  {
   "cell_type": "code",
   "execution_count": 3,
   "metadata": {},
   "outputs": [
    {
     "ename": "NameError",
     "evalue": "name 'description_train_vectors' is not defined",
     "output_type": "error",
     "traceback": [
      "\u001b[1;31m---------------------------------------------------------------------------\u001b[0m",
      "\u001b[1;31mNameError\u001b[0m                                 Traceback (most recent call last)",
      "\u001b[1;32m~\\AppData\\Local\\Temp/ipykernel_3640/537404617.py\u001b[0m in \u001b[0;36m<module>\u001b[1;34m\u001b[0m\n\u001b[0;32m      1\u001b[0m \u001b[1;31m#visualization\u001b[0m\u001b[1;33m\u001b[0m\u001b[1;33m\u001b[0m\u001b[1;33m\u001b[0m\u001b[0m\n\u001b[0;32m      2\u001b[0m \u001b[1;33m\u001b[0m\u001b[0m\n\u001b[1;32m----> 3\u001b[1;33m \u001b[0mplt\u001b[0m\u001b[1;33m.\u001b[0m\u001b[0mscatter\u001b[0m\u001b[1;33m(\u001b[0m\u001b[0mdescription_train_vectors\u001b[0m\u001b[1;33m,\u001b[0m \u001b[0mcvss_train\u001b[0m\u001b[1;33m)\u001b[0m\u001b[1;33m\u001b[0m\u001b[1;33m\u001b[0m\u001b[0m\n\u001b[0m\u001b[0;32m      4\u001b[0m \u001b[0mplt\u001b[0m\u001b[1;33m.\u001b[0m\u001b[0mplot\u001b[0m\u001b[1;33m(\u001b[0m\u001b[0mdescription_train_vectors\u001b[0m\u001b[1;33m,\u001b[0m \u001b[0mcvss_pred\u001b[0m\u001b[1;33m,\u001b[0m \u001b[0mcolor\u001b[0m\u001b[1;33m=\u001b[0m\u001b[1;34m\"green\"\u001b[0m\u001b[1;33m)\u001b[0m\u001b[1;33m\u001b[0m\u001b[1;33m\u001b[0m\u001b[0m\n\u001b[0;32m      5\u001b[0m \u001b[0mplt\u001b[0m\u001b[1;33m.\u001b[0m\u001b[0mxlabel\u001b[0m\u001b[1;33m(\u001b[0m\u001b[1;34m'Description vector sum'\u001b[0m\u001b[1;33m)\u001b[0m\u001b[1;33m\u001b[0m\u001b[1;33m\u001b[0m\u001b[0m\n",
      "\u001b[1;31mNameError\u001b[0m: name 'description_train_vectors' is not defined"
     ]
    }
   ],
   "source": [
    "#visualization\n",
    "#How to visualize the vectors?\n",
    "\n",
    "plt.scatter(description_train_vectors, cvss_train)\n",
    "plt.plot(description_train_vectors, cvss_pred, color=\"green\")\n",
    "plt.xlabel('Description vector sum')\n",
    "plt.ylabel('CVSS score')\n",
    "plt.show()"
   ]
  },
  {
   "cell_type": "code",
   "execution_count": 4,
   "metadata": {},
   "outputs": [
    {
     "ename": "NameError",
     "evalue": "name 'cvss_true' is not defined",
     "output_type": "error",
     "traceback": [
      "\u001b[1;31m---------------------------------------------------------------------------\u001b[0m",
      "\u001b[1;31mNameError\u001b[0m                                 Traceback (most recent call last)",
      "\u001b[1;32m~\\AppData\\Local\\Temp/ipykernel_3640/2246189198.py\u001b[0m in \u001b[0;36m<module>\u001b[1;34m\u001b[0m\n\u001b[0;32m      1\u001b[0m \u001b[1;31m#evaluation\u001b[0m\u001b[1;33m\u001b[0m\u001b[1;33m\u001b[0m\u001b[1;33m\u001b[0m\u001b[0m\n\u001b[0;32m      2\u001b[0m \u001b[1;32mfrom\u001b[0m \u001b[0msklearn\u001b[0m \u001b[1;32mimport\u001b[0m \u001b[0mmetrics\u001b[0m\u001b[1;33m\u001b[0m\u001b[1;33m\u001b[0m\u001b[0m\n\u001b[1;32m----> 3\u001b[1;33m \u001b[0mprint\u001b[0m\u001b[1;33m(\u001b[0m\u001b[1;34m\"Mean squared error: %.3f\"\u001b[0m \u001b[1;33m%\u001b[0m\u001b[0mmetrics\u001b[0m\u001b[1;33m.\u001b[0m\u001b[0mmean_squared_error\u001b[0m\u001b[1;33m(\u001b[0m\u001b[0mcvss_true\u001b[0m\u001b[1;33m,\u001b[0m \u001b[0mcvss_pred\u001b[0m\u001b[1;33m)\u001b[0m\u001b[1;33m)\u001b[0m\u001b[1;33m\u001b[0m\u001b[1;33m\u001b[0m\u001b[0m\n\u001b[0m\u001b[0;32m      4\u001b[0m \u001b[0mprint\u001b[0m\u001b[1;33m(\u001b[0m\u001b[1;34m\"Explained variance score (1 is the best): %.3f\"\u001b[0m \u001b[1;33m%\u001b[0m\u001b[0mmetrics\u001b[0m\u001b[1;33m.\u001b[0m\u001b[0mexplained_variance_score\u001b[0m\u001b[1;33m(\u001b[0m\u001b[0mcvss_true\u001b[0m\u001b[1;33m,\u001b[0m \u001b[0mcvss_pred\u001b[0m\u001b[1;33m)\u001b[0m\u001b[1;33m)\u001b[0m\u001b[1;33m\u001b[0m\u001b[1;33m\u001b[0m\u001b[0m\n\u001b[0;32m      5\u001b[0m \u001b[0mprint\u001b[0m\u001b[1;33m(\u001b[0m\u001b[1;34m\"Max error: %.3f\"\u001b[0m \u001b[1;33m%\u001b[0m\u001b[0mmetrics\u001b[0m\u001b[1;33m.\u001b[0m\u001b[0mmax_error\u001b[0m\u001b[1;33m(\u001b[0m\u001b[0mcvss_true\u001b[0m\u001b[1;33m,\u001b[0m \u001b[0mcvss_pred\u001b[0m\u001b[1;33m)\u001b[0m\u001b[1;33m)\u001b[0m\u001b[1;33m\u001b[0m\u001b[1;33m\u001b[0m\u001b[0m\n",
      "\u001b[1;31mNameError\u001b[0m: name 'cvss_true' is not defined"
     ]
    }
   ],
   "source": [
    "#evaluation\n",
    "from sklearn import metrics\n",
    "print(\"Mean squared error: %.3f\" %metrics.mean_squared_error(cvss_true, cvss_pred))\n",
    "print(\"Explained variance score (1 is the best): %.3f\" %metrics.explained_variance_score(cvss_true, cvss_pred))\n",
    "print(\"Max error: %.3f\" %metrics.max_error(cvss_true, cvss_pred))\n",
    "print(\"Mean absolute percentage error: %.3f\" %metrics.mean_absolute_percentage_error(cvss_true, cvss_pred))\n",
    "print(\"Correlation coefficient: %.3f\" %metrics.r2_score(cvss_true, cvss_pred))\n",
    "\n",
    "R2 = reg.score(description_train_vectors, cvss_train)\n",
    "print(\"R squared: %.3f\" %R2)\n"
   ]
  },
  {
   "cell_type": "code",
   "execution_count": 33,
   "metadata": {},
   "outputs": [
    {
     "name": "stdout",
     "output_type": "stream",
     "text": [
      "[7.4661249]\n",
      "7.5\n",
      "\n",
      "[7.63278205]\n",
      "7.8\n",
      "\n",
      "[8.22439322]\n",
      "8.8\n",
      "\n",
      "[4.14713951]\n",
      "4.3\n",
      "\n",
      "[5.15562947]\n",
      "5.5\n",
      "\n",
      "[6.89972806]\n",
      "7.0\n",
      "\n",
      "[7.88468669]\n",
      "4.7\n",
      "\n",
      "[7.53229076]\n",
      "9.8\n",
      "\n",
      "[5.87283644]\n",
      "5.5\n",
      "\n",
      "[7.77672928]\n",
      "9.1\n",
      "\n",
      "[8.50735935]\n",
      "9.8\n",
      "\n",
      "[6.63063347]\n",
      "7.2\n",
      "\n",
      "[5.19119846]\n",
      "4.7\n",
      "\n",
      "[7.59984634]\n",
      "7.8\n",
      "\n",
      "[6.01000603]\n",
      "4.8\n",
      "\n",
      "[8.70402406]\n",
      "8.8\n",
      "\n",
      "[7.59104949]\n",
      "7.8\n",
      "\n",
      "[7.3477621]\n",
      "8.4\n",
      "\n",
      "[5.61356849]\n",
      "8.7\n",
      "\n",
      "[6.19843648]\n",
      "7.3\n",
      "\n"
     ]
    }
   ],
   "source": [
    "for i in range(0, 20):\n",
    "    print(cvss_pred[i])\n",
    "    print(cvss_true[i])\n",
    "    print()"
   ]
  },
  {
   "cell_type": "code",
   "execution_count": null,
   "metadata": {},
   "outputs": [],
   "source": [
    "import pickle\n",
    "pickle.dump(reg, open('svm_model', 'wb'))"
   ]
  }
 ],
 "metadata": {
  "interpreter": {
   "hash": "901382785acabfc8268a913c88ac8acce7b79e4f8ff88e54caf41d0a83717d5d"
  },
  "kernelspec": {
   "display_name": "Python 3.9.7 ('Pandas')",
   "language": "python",
   "name": "python3"
  },
  "language_info": {
   "codemirror_mode": {
    "name": "ipython",
    "version": 3
   },
   "file_extension": ".py",
   "mimetype": "text/x-python",
   "name": "python",
   "nbconvert_exporter": "python",
   "pygments_lexer": "ipython3",
   "version": "3.9.5"
  },
  "orig_nbformat": 4
 },
 "nbformat": 4,
 "nbformat_minor": 2
}
