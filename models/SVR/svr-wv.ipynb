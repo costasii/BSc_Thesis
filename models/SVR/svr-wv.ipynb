{
 "cells": [
  {
   "cell_type": "code",
   "execution_count": 1,
   "metadata": {},
   "outputs": [],
   "source": [
    "import os\n",
    "import sys"
   ]
  },
  {
   "cell_type": "code",
   "execution_count": 1,
   "metadata": {},
   "outputs": [],
   "source": [
    "import pandas as pd\n",
    "import matplotlib.pyplot as plt\n",
    "import numpy as np\n",
    "import spacy\n",
    "import seaborn as sns\n",
    "\n",
    "from sklearn.svm import SVR\n",
    "from sklearn.pipeline import make_pipeline\n",
    "from sklearn.preprocessing import StandardScaler\n",
    "\n"
   ]
  },
  {
   "cell_type": "code",
   "execution_count": 2,
   "metadata": {},
   "outputs": [],
   "source": [
    "nlp = spacy.load(\"en_core_web_lg\")"
   ]
  },
  {
   "cell_type": "code",
   "execution_count": 3,
   "metadata": {},
   "outputs": [],
   "source": [
    "data_train = pd.read_csv('cve_train.csv')\n",
    "data_test = pd.read_csv('cve_test.csv')\n",
    "\n",
    "description_train = data_train['description']\n",
    "description_test = data_test['description']\n",
    "cvss_train = data_train['base_score']\n",
    "cvss_test = data_test['base_score']\n"
   ]
  },
  {
   "cell_type": "code",
   "execution_count": 8,
   "metadata": {},
   "outputs": [
    {
     "name": "stdout",
     "output_type": "stream",
     "text": [
      "(61616,)\n"
     ]
    }
   ],
   "source": [
    "#transform tokens of a description and summarize them\n",
    "vectors = description_train.apply(lambda row: sum([token.vector for token in nlp(row)]))\n",
    "print(vectors.shape)"
   ]
  },
  {
   "cell_type": "code",
   "execution_count": 9,
   "metadata": {},
   "outputs": [],
   "source": [
    "description_train_vectors = list(vectors)\n"
   ]
  },
  {
   "cell_type": "code",
   "execution_count": 10,
   "metadata": {},
   "outputs": [
    {
     "name": "stdout",
     "output_type": "stream",
     "text": [
      "Stored 'description_train_vectors' (list)\n"
     ]
    }
   ],
   "source": [
    "%store description_train_vectors"
   ]
  },
  {
   "cell_type": "code",
   "execution_count": 5,
   "metadata": {},
   "outputs": [],
   "source": [
    "%store -r description_train_vectors"
   ]
  },
  {
   "cell_type": "code",
   "execution_count": 6,
   "metadata": {},
   "outputs": [
    {
     "name": "stdout",
     "output_type": "stream",
     "text": [
      "[ 0.14649557 -0.55227798  0.90057199 -1.2803768   0.0576298  -0.47833431\n",
      " -0.22835618  0.36439333  0.00328053 -0.85903832  0.62636007  0.00451147\n",
      " -0.42435703 -0.73285399  0.77436626  0.67126756  0.96820716 -0.84549552\n",
      "  0.56878143  0.3666353   0.580081   -0.31789413  0.72521085  0.29677413\n",
      " -0.15000359 -0.31159218  0.24030109  0.95618542 -0.23835819  0.39491722\n",
      " -0.24082956 -0.0341159   0.75534603 -0.52700404 -0.55173798  0.46733022\n",
      "  0.40960478 -0.29781466 -1.07355784  0.60805827  0.11033828  0.10402227\n",
      "  0.4670759   0.67419648  0.89649253 -0.749397    0.32171477 -0.56424338\n",
      "  0.22245114 -0.08143247 -0.39916558  0.34185232  0.49286773 -0.07949017\n",
      "  0.7608605   0.00264919  0.47645816  0.72439171  0.54586855  1.0372079\n",
      " -0.06666585 -0.82707155  0.41600241 -0.39324226 -0.81003632  0.0590296\n",
      " -0.64041     0.28927566 -0.62875011 -0.6278614  -1.08536251 -0.53952493\n",
      " -0.91877433  0.63108185 -0.94669088  0.47865593 -0.90043977  0.90849993\n",
      "  0.82597314 -0.63455542  0.66652547 -0.1929344   0.83521528  0.66904929\n",
      " -0.0015921   0.43633974 -0.20193034  0.24727101 -1.14760342 -0.73080695\n",
      "  0.68369649 -0.33959165 -0.42378127 -0.29156662 -0.71582263 -0.07549677\n",
      "  0.77431042  0.88278046 -0.01177347 -0.02997452  0.28254437 -0.4046031\n",
      " -0.01777945 -0.3028992  -0.69762214  0.7035094  -0.49010281 -0.71279272\n",
      " -0.74121096 -0.02268497  0.37490235  0.82242161 -0.81913072  0.61948267\n",
      "  0.65871973  0.58070044 -0.09772852 -0.10750199  0.76615023 -0.04021126\n",
      "  0.35390354 -0.11837858  0.52668135 -0.01080087 -0.02556282 -0.0583524\n",
      " -0.3912202   0.30940583  0.00921782 -0.42646691  0.05641932 -0.19398105\n",
      "  0.65564108 -0.0819609   0.62126468 -0.51464395 -0.03563908 -0.23534805\n",
      " -0.40766549 -0.33164367  0.95006769 -0.41791655 -0.2244828   0.30607744\n",
      " -0.02009103 -0.52917424 -1.3219071   0.41132489  0.78564026  0.19005283\n",
      " -1.07084486 -0.78208249 -0.35105439 -0.23637346 -0.31109493 -0.2861661\n",
      "  0.62713019 -0.21893027  0.3786589   0.4322472   0.36881015 -0.74823722\n",
      " -0.72857191  0.24000608  0.45248287  0.85906407 -1.0043817   0.60506259\n",
      " -0.730723   -0.86089817 -0.53843235 -0.22419891 -0.33625599 -0.02442584\n",
      " -0.01877913 -1.33009289  0.00389497  0.97058904 -0.15122603  0.32161474\n",
      " -0.38480206  0.65222519  0.06825168 -0.20836806  0.31718416  0.14618141\n",
      " -0.02541894 -0.4889228   0.97125142 -0.11618719  0.47834161 -0.15476609\n",
      "  0.39170579 -0.65049755 -0.72200407 -0.53300176  0.42321064  0.53073106\n",
      "  0.43663853 -0.82336803  0.56071881  0.65224191  0.3750372  -0.25537264\n",
      " -0.92763985  0.09376814  0.12525721 -0.31813582 -0.13118115  0.17586737\n",
      "  0.01065725  0.66695283  0.55541807  0.39246228  0.12294944 -0.24220749\n",
      "  0.58227311 -0.47632945  0.95966186 -0.22947001 -0.63463803 -0.65424235\n",
      "  0.2266208  -0.80722793  0.42177708  0.2279849  -0.59894633 -0.58138091\n",
      " -0.66333724 -0.17671175  0.34510009  0.594865   -0.72894067 -1.00138165\n",
      "  0.84137969  0.54105176  0.26817478  0.74706772  0.94062857 -0.26551937\n",
      " -1.14277534 -0.28693165 -0.7343669   0.62451348 -1.14536243  0.99714675\n",
      "  0.81602242  0.45751973  0.65396848 -0.24778103 -0.02343929  0.23656079\n",
      "  0.4753549   1.122149   -0.12240692 -1.25561338  0.12033121  0.64025672\n",
      " -0.07551223  0.0594063  -0.61068275 -1.05217647 -0.54546575 -0.50768377\n",
      "  0.01493327  0.006443    0.27887706 -0.27060481 -0.84756173  0.79718641\n",
      " -0.41873121 -0.00468232 -0.64534719  0.53094666 -0.30358213  0.34912581\n",
      " -0.24597877 -0.81013965 -0.35369129 -0.73762947 -0.70699507 -0.60105636\n",
      " -0.32042625  0.13873006 -0.81175454  1.03695165 -0.383828    0.26757412\n",
      " -1.04547302  1.14435986  0.76256672 -0.61375716  0.4500348  -0.02329926\n",
      "  0.95241686  0.0379829  -0.10673127  0.69327756  0.21039044 -1.40496517]\n"
     ]
    }
   ],
   "source": [
    "sc_desc = StandardScaler()\n",
    "description_train_vectors = sc_desc.fit_transform(description_train_vectors, cvss_train)\n",
    "\n",
    "print(description_train_vectors[0])"
   ]
  },
  {
   "cell_type": "code",
   "execution_count": 27,
   "metadata": {},
   "outputs": [],
   "source": [
    "from sklearn.svm import LinearSVR\n",
    "\n",
    "linreg = LinearSVR(C= 0.03850588924849597, epsilon=0.031167867862421057, random_state=0, tol=4.305645458379762e-06, max_iter= 10000, dual=False, loss='squared_epsilon_insensitive')"
   ]
  },
  {
   "cell_type": "code",
   "execution_count": 28,
   "metadata": {},
   "outputs": [
    {
     "data": {
      "text/plain": [
       "LinearSVR(C=0.03850588924849597, dual=False, epsilon=0.031167867862421057,\n",
       "          loss='squared_epsilon_insensitive', max_iter=10000, random_state=0,\n",
       "          tol=4.305645458379762e-06)"
      ]
     },
     "execution_count": 28,
     "metadata": {},
     "output_type": "execute_result"
    }
   ],
   "source": [
    "linreg.fit(description_train_vectors, cvss_train)"
   ]
  },
  {
   "cell_type": "code",
   "execution_count": 17,
   "metadata": {},
   "outputs": [
    {
     "data": {
      "text/plain": [
       "SGDRegressor()"
      ]
     },
     "execution_count": 17,
     "metadata": {},
     "output_type": "execute_result"
    }
   ],
   "source": [
    "from sklearn.linear_model import SGDRegressor\n",
    "sgdreg = SGDRegressor(max_iter=1000, tol=1e-3)\n",
    "sgdreg.fit(description_train_vectors, cvss_train)"
   ]
  },
  {
   "cell_type": "code",
   "execution_count": 41,
   "metadata": {},
   "outputs": [
    {
     "name": "stdout",
     "output_type": "stream",
     "text": [
      "{'C': 1.0, 'cache_size': 200, 'coef0': 0.0, 'degree': 3, 'epsilon': 0.1, 'gamma': 'scale', 'kernel': 'rbf', 'max_iter': -1, 'shrinking': True, 'tol': 0.001, 'verbose': False}\n"
     ]
    }
   ],
   "source": [
    "print(SVR().get_params())"
   ]
  },
  {
   "cell_type": "code",
   "execution_count": 24,
   "metadata": {},
   "outputs": [
    {
     "name": "stdout",
     "output_type": "stream",
     "text": [
      "{'C': 1.0, 'dual': True, 'epsilon': 0.0, 'fit_intercept': True, 'intercept_scaling': 1.0, 'loss': 'epsilon_insensitive', 'max_iter': 1000, 'random_state': None, 'tol': 0.0001, 'verbose': 0}\n"
     ]
    }
   ],
   "source": [
    "print(LinearSVR().get_params())"
   ]
  },
  {
   "cell_type": "code",
   "execution_count": 7,
   "metadata": {},
   "outputs": [],
   "source": [
    "subset_train_X = description_train_vectors[:10000]\n",
    "subset_train_y = cvss_train[:10000]"
   ]
  },
  {
   "cell_type": "code",
   "execution_count": 40,
   "metadata": {},
   "outputs": [
    {
     "name": "stdout",
     "output_type": "stream",
     "text": [
      "Fitting 3 folds for each of 1 candidates, totalling 3 fits\n",
      "[CV 1/3; 1/1] START C=87.34956711284099, epsilon=0.46954582109726767, kernel=rbf, tol=0.0025029997077590125\n",
      "[CV 1/3; 1/1] END C=87.34956711284099, epsilon=0.46954582109726767, kernel=rbf, tol=0.0025029997077590125;, score=0.309 total time=  15.1s\n",
      "[CV 2/3; 1/1] START C=87.34956711284099, epsilon=0.46954582109726767, kernel=rbf, tol=0.0025029997077590125\n",
      "[CV 2/3; 1/1] END C=87.34956711284099, epsilon=0.46954582109726767, kernel=rbf, tol=0.0025029997077590125;, score=0.332 total time=  14.8s\n",
      "[CV 3/3; 1/1] START C=87.34956711284099, epsilon=0.46954582109726767, kernel=rbf, tol=0.0025029997077590125\n",
      "[CV 3/3; 1/1] END C=87.34956711284099, epsilon=0.46954582109726767, kernel=rbf, tol=0.0025029997077590125;, score=0.347 total time=  14.0s\n",
      "Fitting 3 folds for each of 1 candidates, totalling 3 fits\n",
      "[CV 1/3; 1/1] START C=0.24386711948308082, epsilon=0.010369041327770417, kernel=rbf, tol=0.00025608351102980955\n",
      "[CV 1/3; 1/1] END C=0.24386711948308082, epsilon=0.010369041327770417, kernel=rbf, tol=0.00025608351102980955;, score=0.276 total time=  14.1s\n",
      "[CV 2/3; 1/1] START C=0.24386711948308082, epsilon=0.010369041327770417, kernel=rbf, tol=0.00025608351102980955\n",
      "[CV 2/3; 1/1] END C=0.24386711948308082, epsilon=0.010369041327770417, kernel=rbf, tol=0.00025608351102980955;, score=0.279 total time=  15.6s\n",
      "[CV 3/3; 1/1] START C=0.24386711948308082, epsilon=0.010369041327770417, kernel=rbf, tol=0.00025608351102980955\n",
      "[CV 3/3; 1/1] END C=0.24386711948308082, epsilon=0.010369041327770417, kernel=rbf, tol=0.00025608351102980955;, score=0.281 total time=  14.6s\n",
      "Fitting 3 folds for each of 1 candidates, totalling 3 fits\n",
      "[CV 1/3; 1/1] START C=0.08601843220266268, epsilon=0.013547277475836384, kernel=linear, tol=1.6716114852969285e-05\n",
      "[CV 1/3; 1/1] END C=0.08601843220266268, epsilon=0.013547277475836384, kernel=linear, tol=1.6716114852969285e-05;, score=0.227 total time=  33.3s\n",
      "[CV 2/3; 1/1] START C=0.08601843220266268, epsilon=0.013547277475836384, kernel=linear, tol=1.6716114852969285e-05\n",
      "[CV 2/3; 1/1] END C=0.08601843220266268, epsilon=0.013547277475836384, kernel=linear, tol=1.6716114852969285e-05;, score=0.253 total time=  29.5s\n",
      "[CV 3/3; 1/1] START C=0.08601843220266268, epsilon=0.013547277475836384, kernel=linear, tol=1.6716114852969285e-05\n",
      "[CV 3/3; 1/1] END C=0.08601843220266268, epsilon=0.013547277475836384, kernel=linear, tol=1.6716114852969285e-05;, score=0.238 total time=  31.3s\n",
      "Fitting 3 folds for each of 1 candidates, totalling 3 fits\n",
      "[CV 1/3; 1/1] START C=0.11347048934763888, epsilon=0.0017326059571727678, kernel=rbf, tol=2.2323849176255524e-05\n",
      "[CV 1/3; 1/1] END C=0.11347048934763888, epsilon=0.0017326059571727678, kernel=rbf, tol=2.2323849176255524e-05;, score=0.217 total time=  15.9s\n",
      "[CV 2/3; 1/1] START C=0.11347048934763888, epsilon=0.0017326059571727678, kernel=rbf, tol=2.2323849176255524e-05\n",
      "[CV 2/3; 1/1] END C=0.11347048934763888, epsilon=0.0017326059571727678, kernel=rbf, tol=2.2323849176255524e-05;, score=0.224 total time=  16.9s\n",
      "[CV 3/3; 1/1] START C=0.11347048934763888, epsilon=0.0017326059571727678, kernel=rbf, tol=2.2323849176255524e-05\n",
      "[CV 3/3; 1/1] END C=0.11347048934763888, epsilon=0.0017326059571727678, kernel=rbf, tol=2.2323849176255524e-05;, score=0.224 total time=  16.0s\n",
      "Fitting 3 folds for each of 1 candidates, totalling 3 fits\n",
      "[CV 1/3; 1/1] START C=1.6115695726109502, epsilon=0.10216544551943497, kernel=linear, tol=0.0007754423079004665\n",
      "[CV 1/3; 1/1] END C=1.6115695726109502, epsilon=0.10216544551943497, kernel=linear, tol=0.0007754423079004665;, score=0.212 total time= 3.2min\n",
      "[CV 2/3; 1/1] START C=1.6115695726109502, epsilon=0.10216544551943497, kernel=linear, tol=0.0007754423079004665\n",
      "[CV 2/3; 1/1] END C=1.6115695726109502, epsilon=0.10216544551943497, kernel=linear, tol=0.0007754423079004665;, score=0.255 total time= 2.6min\n",
      "[CV 3/3; 1/1] START C=1.6115695726109502, epsilon=0.10216544551943497, kernel=linear, tol=0.0007754423079004665\n",
      "[CV 3/3; 1/1] END C=1.6115695726109502, epsilon=0.10216544551943497, kernel=linear, tol=0.0007754423079004665;, score=0.234 total time= 3.0min\n",
      "Fitting 3 folds for each of 1 candidates, totalling 3 fits\n",
      "[CV 1/3; 1/1] START C=0.17263588956286752, epsilon=0.007657568097716051, kernel=rbf, tol=0.000527221402008\n",
      "[CV 1/3; 1/1] END C=0.17263588956286752, epsilon=0.007657568097716051, kernel=rbf, tol=0.000527221402008;, score=0.250 total time=  14.5s\n",
      "[CV 2/3; 1/1] START C=0.17263588956286752, epsilon=0.007657568097716051, kernel=rbf, tol=0.000527221402008\n",
      "[CV 2/3; 1/1] END C=0.17263588956286752, epsilon=0.007657568097716051, kernel=rbf, tol=0.000527221402008;, score=0.255 total time=  14.2s\n",
      "[CV 3/3; 1/1] START C=0.17263588956286752, epsilon=0.007657568097716051, kernel=rbf, tol=0.000527221402008\n",
      "[CV 3/3; 1/1] END C=0.17263588956286752, epsilon=0.007657568097716051, kernel=rbf, tol=0.000527221402008;, score=0.256 total time=  14.6s\n",
      "Fitting 3 folds for each of 1 candidates, totalling 3 fits\n",
      "[CV 1/3; 1/1] START C=0.10392810069638958, epsilon=0.0031174849074479915, kernel=rbf, tol=4.8072390943147155e-05\n",
      "[CV 1/3; 1/1] END C=0.10392810069638958, epsilon=0.0031174849074479915, kernel=rbf, tol=4.8072390943147155e-05;, score=0.210 total time=  14.2s\n",
      "[CV 2/3; 1/1] START C=0.10392810069638958, epsilon=0.0031174849074479915, kernel=rbf, tol=4.8072390943147155e-05\n",
      "[CV 2/3; 1/1] END C=0.10392810069638958, epsilon=0.0031174849074479915, kernel=rbf, tol=4.8072390943147155e-05;, score=0.218 total time=  14.2s\n",
      "[CV 3/3; 1/1] START C=0.10392810069638958, epsilon=0.0031174849074479915, kernel=rbf, tol=4.8072390943147155e-05\n",
      "[CV 3/3; 1/1] END C=0.10392810069638958, epsilon=0.0031174849074479915, kernel=rbf, tol=4.8072390943147155e-05;, score=0.217 total time=  14.3s\n",
      "Fitting 3 folds for each of 1 candidates, totalling 3 fits\n",
      "[CV 1/3; 1/1] START C=0.37453291571504504, epsilon=2.0199841306968506e-06, kernel=rbf, tol=0.00821132780656907\n",
      "[CV 1/3; 1/1] END C=0.37453291571504504, epsilon=2.0199841306968506e-06, kernel=rbf, tol=0.00821132780656907;, score=0.307 total time=  14.3s\n",
      "[CV 2/3; 1/1] START C=0.37453291571504504, epsilon=2.0199841306968506e-06, kernel=rbf, tol=0.00821132780656907\n",
      "[CV 2/3; 1/1] END C=0.37453291571504504, epsilon=2.0199841306968506e-06, kernel=rbf, tol=0.00821132780656907;, score=0.304 total time=  14.2s\n",
      "[CV 3/3; 1/1] START C=0.37453291571504504, epsilon=2.0199841306968506e-06, kernel=rbf, tol=0.00821132780656907\n",
      "[CV 3/3; 1/1] END C=0.37453291571504504, epsilon=2.0199841306968506e-06, kernel=rbf, tol=0.00821132780656907;, score=0.309 total time=  14.2s\n",
      "Fitting 3 folds for each of 1 candidates, totalling 3 fits\n",
      "[CV 1/3; 1/1] START C=0.36456806363890437, epsilon=1.4376013170824333e-06, kernel=rbf, tol=0.0003773850093458656\n",
      "[CV 1/3; 1/1] END C=0.36456806363890437, epsilon=1.4376013170824333e-06, kernel=rbf, tol=0.0003773850093458656;, score=0.305 total time=  14.2s\n",
      "[CV 2/3; 1/1] START C=0.36456806363890437, epsilon=1.4376013170824333e-06, kernel=rbf, tol=0.0003773850093458656\n",
      "[CV 2/3; 1/1] END C=0.36456806363890437, epsilon=1.4376013170824333e-06, kernel=rbf, tol=0.0003773850093458656;, score=0.302 total time=  14.7s\n",
      "[CV 3/3; 1/1] START C=0.36456806363890437, epsilon=1.4376013170824333e-06, kernel=rbf, tol=0.0003773850093458656\n",
      "[CV 3/3; 1/1] END C=0.36456806363890437, epsilon=1.4376013170824333e-06, kernel=rbf, tol=0.0003773850093458656;, score=0.307 total time=  14.5s\n",
      "Fitting 3 folds for each of 1 candidates, totalling 3 fits\n",
      "[CV 1/3; 1/1] START C=0.010577316157216647, epsilon=0.0632589773013942, kernel=rbf, tol=5.648324554528543e-06\n",
      "[CV 1/3; 1/1] END C=0.010577316157216647, epsilon=0.0632589773013942, kernel=rbf, tol=5.648324554528543e-06;, score=0.052 total time=  13.6s\n",
      "[CV 2/3; 1/1] START C=0.010577316157216647, epsilon=0.0632589773013942, kernel=rbf, tol=5.648324554528543e-06\n",
      "[CV 2/3; 1/1] END C=0.010577316157216647, epsilon=0.0632589773013942, kernel=rbf, tol=5.648324554528543e-06;, score=0.058 total time=  13.3s\n",
      "[CV 3/3; 1/1] START C=0.010577316157216647, epsilon=0.0632589773013942, kernel=rbf, tol=5.648324554528543e-06\n",
      "[CV 3/3; 1/1] END C=0.010577316157216647, epsilon=0.0632589773013942, kernel=rbf, tol=5.648324554528543e-06;, score=0.053 total time=  13.5s\n",
      "val. score: 0.3290701897660861\n",
      "best params: OrderedDict([('C', 87.34956711284099), ('epsilon', 0.46954582109726767), ('kernel', 'rbf'), ('tol', 0.0025029997077590125)])\n"
     ]
    }
   ],
   "source": [
    "from skopt import BayesSearchCV\n",
    "opt = BayesSearchCV(\n",
    "    SVR(),\n",
    "    {\n",
    "        'kernel': (['linear', 'rbf']),\n",
    "        'C': (1e-2, 1e+2, 'log-uniform'),\n",
    "        'epsilon': (1e-6, 1e+1, 'log-uniform'),  \n",
    "        'tol': (1e-6, 1e-2, 'log-uniform'),\n",
    "\n",
    "    },\n",
    "    n_iter=10,\n",
    "    cv=3,\n",
    "    verbose=10,\n",
    ")\n",
    "\n",
    "opt.fit(subset_train_X, subset_train_y)\n",
    "\n",
    "print(\"val. score: %s\" % opt.best_score_)\n",
    "print(\"best params: %s\" % str(opt.best_params_))"
   ]
  },
  {
   "cell_type": "code",
   "execution_count": 9,
   "metadata": {},
   "outputs": [],
   "source": [
    "reg = SVR(C=87.34956711284099, epsilon=0.46954582109726767, kernel='rbf', tol= 0.0025029997077590125)"
   ]
  },
  {
   "cell_type": "code",
   "execution_count": 36,
   "metadata": {},
   "outputs": [],
   "source": [
    "subset_train_X_fit = description_train_vectors[:45000]\n",
    "subset_train_y_fit = cvss_train[:45000]"
   ]
  },
  {
   "cell_type": "code",
   "execution_count": 37,
   "metadata": {},
   "outputs": [],
   "source": [
    "reg.fit(subset_train_X_fit, subset_train_y_fit)"
   ]
  },
  {
   "cell_type": "code",
   "execution_count": 14,
   "metadata": {},
   "outputs": [],
   "source": [
    "#put test data into a list\n",
    "list_description = []\n",
    "for i in range(len(description_test)):\n",
    "    list_description.append(description_test.iloc[i])"
   ]
  },
  {
   "cell_type": "code",
   "execution_count": 15,
   "metadata": {},
   "outputs": [],
   "source": [
    "list_description_vec = []\n",
    "for desc in list_description:\n",
    "    list_description_vec.append(sum([token.vector for token in nlp(desc)]))"
   ]
  },
  {
   "cell_type": "code",
   "execution_count": 16,
   "metadata": {},
   "outputs": [
    {
     "name": "stdout",
     "output_type": "stream",
     "text": [
      "Stored 'list_description_vec' (list)\n"
     ]
    }
   ],
   "source": [
    "%store list_description_vec"
   ]
  },
  {
   "cell_type": "code",
   "execution_count": 28,
   "metadata": {},
   "outputs": [],
   "source": [
    "%store -r list_description_vec"
   ]
  },
  {
   "cell_type": "code",
   "execution_count": 29,
   "metadata": {},
   "outputs": [],
   "source": [
    "#scaling test data\n",
    "list_description_vec = sc_desc.fit_transform(list_description_vec, cvss_test)\n"
   ]
  },
  {
   "cell_type": "code",
   "execution_count": 30,
   "metadata": {},
   "outputs": [],
   "source": [
    "subset_test_X = list_description_vec[:6000] "
   ]
  },
  {
   "cell_type": "code",
   "execution_count": 31,
   "metadata": {},
   "outputs": [],
   "source": [
    "cvss_pred = []\n",
    "for desc_vec in subset_test_X:\n",
    "    cvss_pred.append(reg.predict([desc_vec]))"
   ]
  },
  {
   "cell_type": "code",
   "execution_count": 32,
   "metadata": {},
   "outputs": [],
   "source": [
    "subset_test_y = cvss_test[:6000]"
   ]
  },
  {
   "cell_type": "code",
   "execution_count": 33,
   "metadata": {},
   "outputs": [],
   "source": [
    "cvss_true = []\n",
    "for i in range(len(subset_test_y)):\n",
    "    cvss_true.append(subset_test_y.iloc[i])"
   ]
  },
  {
   "cell_type": "code",
   "execution_count": 34,
   "metadata": {},
   "outputs": [
    {
     "name": "stdout",
     "output_type": "stream",
     "text": [
      "Mean squared error: 1.511\n",
      "Explained variance score (1 is the best): 0.444\n",
      "Max error: 5.117\n",
      "Mean absolute percentage error: 0.139\n",
      "R squared: 0.444\n"
     ]
    }
   ],
   "source": [
    "#evaluation\n",
    "from sklearn import metrics\n",
    "print(\"Mean squared error: %.3f\" %metrics.mean_squared_error(cvss_true, cvss_pred))\n",
    "print(\"Explained variance score (1 is the best): %.3f\" %metrics.explained_variance_score(cvss_true, cvss_pred))\n",
    "print(\"Max error: %.3f\" %metrics.max_error(cvss_true, cvss_pred))\n",
    "print(\"Mean absolute percentage error: %.3f\" %metrics.mean_absolute_percentage_error(cvss_true, cvss_pred))\n",
    "\n",
    "R2 = reg.score(subset_test_X, subset_test_y)\n",
    "print(\"R squared: %.3f\" %R2)\n"
   ]
  },
  {
   "cell_type": "code",
   "execution_count": 35,
   "metadata": {},
   "outputs": [
    {
     "name": "stdout",
     "output_type": "stream",
     "text": [
      "[7.62601486]\n",
      "7.5\n",
      "\n",
      "[8.03640233]\n",
      "7.8\n",
      "\n",
      "[8.91833507]\n",
      "8.8\n",
      "\n",
      "[4.38993263]\n",
      "4.3\n",
      "\n",
      "[4.88315988]\n",
      "5.5\n",
      "\n",
      "[7.11599151]\n",
      "7.0\n",
      "\n",
      "[7.60036377]\n",
      "4.7\n",
      "\n",
      "[6.66141597]\n",
      "9.8\n",
      "\n",
      "[5.78100234]\n",
      "5.5\n",
      "\n",
      "[8.66549537]\n",
      "9.1\n",
      "\n",
      "[9.32605834]\n",
      "9.8\n",
      "\n",
      "[5.61558254]\n",
      "7.2\n",
      "\n",
      "[4.21811144]\n",
      "4.7\n",
      "\n",
      "[8.32114055]\n",
      "7.8\n",
      "\n",
      "[6.91011473]\n",
      "4.8\n",
      "\n",
      "[8.41492193]\n",
      "8.8\n",
      "\n",
      "[7.17709375]\n",
      "7.8\n",
      "\n",
      "[5.63582432]\n",
      "8.4\n",
      "\n",
      "[6.8942281]\n",
      "8.7\n",
      "\n",
      "[5.85222489]\n",
      "7.3\n",
      "\n"
     ]
    }
   ],
   "source": [
    "for i in range(0, 20):\n",
    "    print(cvss_pred[i])\n",
    "    print(cvss_true[i])\n",
    "    print()"
   ]
  },
  {
   "cell_type": "code",
   "execution_count": null,
   "metadata": {},
   "outputs": [],
   "source": [
    "import pickle\n",
    "pickle.dump(reg, open('svm_model', 'wb'))"
   ]
  }
 ],
 "metadata": {
  "interpreter": {
   "hash": "d352f530d35ba9a8cbd74dc54ae14fe97a35856bed16a2f3b615ca61b68e7fcb"
  },
  "kernelspec": {
   "display_name": "Python 3.9.5 ('base')",
   "language": "python",
   "name": "python3"
  },
  "language_info": {
   "codemirror_mode": {
    "name": "ipython",
    "version": 3
   },
   "file_extension": ".py",
   "mimetype": "text/x-python",
   "name": "python",
   "nbconvert_exporter": "python",
   "pygments_lexer": "ipython3",
   "version": "3.9.5"
  },
  "orig_nbformat": 4
 },
 "nbformat": 4,
 "nbformat_minor": 2
}
